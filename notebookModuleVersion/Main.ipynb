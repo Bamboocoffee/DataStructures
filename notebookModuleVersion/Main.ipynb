{
 "cells": [
  {
   "cell_type": "code",
   "execution_count": 2,
   "metadata": {},
   "outputs": [],
   "source": [
    "import os\n",
    "import builderMethods\n",
    "import distanceMethods\n",
    "import costMethods\n",
    "import cacheMethods\n",
    "import csv"
   ]
  },
  {
   "cell_type": "markdown",
   "metadata": {},
   "source": [
    "## Airtravel Optimization Program\n",
    "\n",
    "### The below code is a our implementation of a program that calculates the lowest cost route for a aircraft to take. The user provides a csv file, that is read, line by line (containing the airports needed to go and aircrft used) and determines the optimal route to take in order to minimise the costs. \n",
    "\n",
    "### The base currency is euro. In order to refuel the aircraft, you must purchase the refuel the aircraft to full using the local currecy. One kilometer requires one unit of fuel and can be purchased with one unit of the local currency. This means that the gain and loss of the cost of fuel is in the conversion rate between euro and the local currency.\n",
    "\n",
    "### To complete this exercise, we have implemented various data structres and algorithms. These will be explained as we make our way down the notebook.\n",
    "\n",
    "## Preparing\n",
    "\n",
    "### Below we have developed both functions and classes that are used at the beginning of the program. The following is a breakdown:\n",
    " \n",
    "### 1. **Read file function:** The function reads in a csv file and creates a list for each line in the csv. Each line in the csv is then appended to a bigger datamatrix list. This list will contain the airports that are to be visited and the aircraft to be used.\n"
   ]
  },
  {
   "cell_type": "code",
   "execution_count": 3,
   "metadata": {},
   "outputs": [],
   "source": [
    "def read_file(file_name):\n",
    "    \"\"\"Read data in the file and Create Matrix\"\"\"\n",
    "    datamatrix = []\n",
    "    datafile = open(file_name)\n",
    "    for line in datafile:\n",
    "        datamatrix.append(line.split(\",\"))\n",
    "    datafile.close()\n",
    "    return datamatrix"
   ]
  },
  {
   "cell_type": "markdown",
   "metadata": {},
   "source": [
    "## Check Aircraft Capability\n",
    "### Time complexity: O(n^2 + n)"
   ]
  },
  {
   "cell_type": "code",
   "execution_count": 4,
   "metadata": {},
   "outputs": [],
   "source": [
    "def checkAircraftAllowed(dictAirplane, distanceDict, input_list):\n",
    "    \"\"\"Checks that the aircraft being used can do the route. Returns the routes that are\n",
    "    only possible with the aircraft\"\"\"\n",
    "    planeToFly = input_list[5]\n",
    "    planeRange = dictAirplane[planeToFly].max_capacity\n",
    "    distanceDict_copy = distanceDict.copy()\n",
    "    for j in distanceDict_copy:\n",
    "        if distanceDict_copy[j] < int(planeRange):\n",
    "            distanceDict.pop(j)\n",
    "    finalRouteDict_copy = finalRouteDict.copy()\n",
    "    for i in finalRouteDict_copy:\n",
    "        toRemove = False\n",
    "        for j in distanceDict:\n",
    "            x = 0\n",
    "            while x < len(i) - 1:\n",
    "                if str(i[x] + \"_\" + i[x + 1]) == j:\n",
    "                    toRemove = True\n",
    "                x += 1\n",
    "        if toRemove:\n",
    "            finalRouteDict.pop(i)"
   ]
  },
  {
   "cell_type": "code",
   "execution_count": 11,
   "metadata": {},
   "outputs": [
    {
     "name": "stdout",
     "output_type": "stream",
     "text": [
      "Please enter the name of the file containing the routes: \n",
      "> test.csv\n",
      "Opening test.csv....\n",
      "Finished! The output is stored as finalResults in your working directory.\n"
     ]
    }
   ],
   "source": [
    "cacheDict = {}\n",
    "print(\"Please enter the name of the file containing the routes: \")\n",
    "file_name = input(\"> \")\n",
    "while not os.path.isfile(file_name):\n",
    "    print(\"I am sorry. I do not believe that file exists. Remember, it is case sensitive. Please try again.\")\n",
    "    print(\"=\" * 75)\n",
    "    print(\"\")\n",
    "    file_name = input(\"> \")\n",
    "\n",
    "print(f\"Opening {file_name}....\")\n",
    "datamatrix = read_file(file_name)\n",
    "i = 0\n",
    "while i < len(datamatrix):\n",
    "    inputList = datamatrix[i]  # sample list passed\n",
    "    cacheCheck = cacheMethods.checkCache(inputList,cacheDict)\n",
    "    if cacheCheck != False:\n",
    "        resultList = [cacheCheck[0:-1]]\n",
    "        resultList.append(cacheCheck[-1])\n",
    "        with open('finalResults.csv', 'a') as csvFile:\n",
    "            writer = csv.writer(csvFile)\n",
    "            writer.writerow(resultList)\n",
    "        \n",
    "        csvFile.close()\n",
    "        i += 1\n",
    "        continue\n",
    "    else:\n",
    "        pass\n",
    "    inputList[-1] = inputList[-1].rstrip()\n",
    "    dictOfAircrafts = builderMethods.buildAircraft(inputList[-1])  # Creates aircraft objects\n",
    "    if not dictOfAircrafts:\n",
    "        print(\"The airplane specified does not exist, skipping this route.\")\n",
    "        i += 1\n",
    "        continue\n",
    "    airport_objects_dict = builderMethods.buildAirports(inputList)  # creates the objects for each airport\n",
    "    if not airport_objects_dict:\n",
    "        print(\"One of the airports specified does not exist, skipping this route.\")\n",
    "        i += 1\n",
    "        continue\n",
    "\n",
    "    # create all the possible routes\n",
    "    all_routes_list = distanceMethods.allPerms(inputList)\n",
    "\n",
    "    # Finds distances and costs of each leg\n",
    "    dict_routes_distances = distanceMethods.leg_distance_calculator(inputList, airport_objects_dict)\n",
    "    leg_costs = costMethods.findLegCosts(dict_routes_distances, airport_objects_dict)\n",
    "\n",
    "    # Finds total route cost\n",
    "    finalRouteDict = costMethods.findRouteCost(all_routes_list, leg_costs)\n",
    "\n",
    "    # Removes distances that the aircraft cannot do\n",
    "    checkAircraftAllowed(dictOfAircrafts, dict_routes_distances, inputList)\n",
    "    if (len(finalRouteDict)) == 0:\n",
    "        result = \"This route is not possible with the \" + str(inputList[-1]) + \". Try another plane. \"\n",
    "        resultList = [result]\n",
    "        with open('finalResults.csv', 'a') as csvFile:\n",
    "            writer = csv.writer(csvFile)\n",
    "            writer.writerow(resultList)\n",
    "        \n",
    "        csvFile.close()\n",
    "        i += 1\n",
    "        continue\n",
    "    cheapestRoute = min(finalRouteDict, key=finalRouteDict.get)\n",
    "    cost = finalRouteDict[cheapestRoute]\n",
    "    resultList = [cheapestRoute]\n",
    "    resultList.append(cost)\n",
    "    with open('finalResults.csv', 'a') as csvFile:\n",
    "        writer = csv.writer(csvFile)\n",
    "        writer.writerow(resultList)\n",
    "        \n",
    "    csvFile.close()\n",
    "    cacheMethods.cacheRoutes(list(cheapestRoute), inputList[-1].rstrip(), cost, cacheDict)\n",
    "    \n",
    "    i += 1\n",
    "\n",
    "print(\"Finished! The output is stored as finalResults in your working directory.\")"
   ]
  },
  {
   "cell_type": "code",
   "execution_count": null,
   "metadata": {},
   "outputs": [],
   "source": []
  }
 ],
 "metadata": {
  "kernelspec": {
   "display_name": "Python 3",
   "language": "python",
   "name": "python3"
  },
  "language_info": {
   "codemirror_mode": {
    "name": "ipython",
    "version": 3
   },
   "file_extension": ".py",
   "mimetype": "text/x-python",
   "name": "python",
   "nbconvert_exporter": "python",
   "pygments_lexer": "ipython3",
   "version": "3.7.3"
  }
 },
 "nbformat": 4,
 "nbformat_minor": 2
}

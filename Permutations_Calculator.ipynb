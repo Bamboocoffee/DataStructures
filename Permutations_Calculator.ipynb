{
 "cells": [
  {
   "cell_type": "code",
   "execution_count": 52,
   "metadata": {},
   "outputs": [],
   "source": [
    "from itertools import permutations \n",
    "import csv\n",
    "import pandas as pd"
   ]
  },
  {
   "cell_type": "code",
   "execution_count": 53,
   "metadata": {},
   "outputs": [],
   "source": [
    "from math import pi,sin,cos,acos,floor"
   ]
  },
  {
   "cell_type": "code",
   "execution_count": 54,
   "metadata": {},
   "outputs": [],
   "source": [
    "colnames=['A','B','C','airport_code','E','latitude', 'longitude','H','I', 'J','K'] \n",
    "file = pd.read_csv('airport.csv', names=colnames)\n",
    "file['airport_code'] = file['airport_code'].astype('str')"
   ]
  },
  {
   "cell_type": "code",
   "execution_count": 55,
   "metadata": {},
   "outputs": [],
   "source": [
    "def distanceBetweenAirports(latitude1,longitude1,latitude2,longitude2):\n",
    "    radius_earth = 6371  # km\n",
    "    theta1 = longitude1 * (2 * pi) / 360\n",
    "    theta2 = longitude2 * (2 * pi) / 360\n",
    "    phi1 = (90 - latitude1) * (2 * pi) / 360\n",
    "    phi2 = (90 - latitude2) * (2 * pi) / 360\n",
    "    distance = acos( sin(phi1) * sin(phi2) * cos(abs(theta1 - theta2)) +  cos(phi1) * cos(phi2) ) * radius_earth\n",
    "    return floor(distance)"
   ]
  },
  {
   "cell_type": "code",
   "execution_count": 56,
   "metadata": {},
   "outputs": [],
   "source": [
    "def permutations_no(listx):\n",
    "    w = listx[1]\n",
    "    x = listx[2]\n",
    "    y = listx[3]\n",
    "    z = listx[4]\n",
    "    a = listx[0]\n",
    "    count = 0\n",
    "    permlist = []\n",
    "    perm = permutations([w,x,y,z]) \n",
    "    for i in list(perm): \n",
    "        permlist.append(i)\n",
    "\n",
    "    airport_distances = {}\n",
    "    for perms in permlist:\n",
    "        perms = [a] + list(perms) + [a]\n",
    "\n",
    "        for i in range(0, len(perms)-1):\n",
    "            airport1 = file[file['airport_code']== perms[i]]\n",
    "            airport2 = file[file['airport_code']== perms[i+1]]\n",
    "\n",
    "            airport_distances['_'.join([str(airport1['airport_code'].values[0]),str(airport2['airport_code'].values[0])])] = distanceBetweenAirports(float(airport1['latitude']), float(airport1['longitude']), float(airport2['latitude']), float(airport2['longitude']))\n",
    "\n",
    "    return airport_distances"
   ]
  },
  {
   "cell_type": "code",
   "execution_count": 57,
   "metadata": {},
   "outputs": [
    {
     "data": {
      "text/plain": [
       "{'DUB_LHR': 448,\n",
       " 'LHR_CPH': 979,\n",
       " 'CPH_HEL': 892,\n",
       " 'HEL_MOW': 898,\n",
       " 'MOW_DUB': 2791,\n",
       " 'CPH_MOW': 1556,\n",
       " 'MOW_HEL': 898,\n",
       " 'HEL_DUB': 2023,\n",
       " 'LHR_HEL': 1847,\n",
       " 'HEL_CPH': 892,\n",
       " 'MOW_CPH': 1556,\n",
       " 'CPH_DUB': 1241,\n",
       " 'LHR_MOW': 2522,\n",
       " 'DUB_CPH': 1241,\n",
       " 'CPH_LHR': 979,\n",
       " 'HEL_LHR': 1847,\n",
       " 'MOW_LHR': 2522,\n",
       " 'LHR_DUB': 448,\n",
       " 'DUB_HEL': 2023,\n",
       " 'DUB_MOW': 2791}"
      ]
     },
     "execution_count": 57,
     "metadata": {},
     "output_type": "execute_result"
    }
   ],
   "source": [
    "permutations_no(['DUB', 'LHR', 'CPH', 'HEL', 'MOW'])"
   ]
  },
  {
   "cell_type": "markdown",
   "metadata": {},
   "source": [
    "***"
   ]
  },
  {
   "cell_type": "code",
   "execution_count": 14,
   "metadata": {},
   "outputs": [],
   "source": []
  }
 ],
 "metadata": {
  "kernelspec": {
   "display_name": "Python 3",
   "language": "python",
   "name": "python3"
  },
  "language_info": {
   "codemirror_mode": {
    "name": "ipython",
    "version": 3
   },
   "file_extension": ".py",
   "mimetype": "text/x-python",
   "name": "python",
   "nbconvert_exporter": "python",
   "pygments_lexer": "ipython3",
   "version": "3.7.2"
  }
 },
 "nbformat": 4,
 "nbformat_minor": 2
}

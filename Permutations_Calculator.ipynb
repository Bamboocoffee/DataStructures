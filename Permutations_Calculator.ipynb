{
 "cells": [
  {
   "cell_type": "code",
   "execution_count": 4,
   "metadata": {},
   "outputs": [],
   "source": [
    "from itertools import permutations \n"
   ]
  },
  {
   "cell_type": "code",
   "execution_count": 5,
   "metadata": {},
   "outputs": [],
   "source": [
    "def permutations_no(w,x,y,z):\n",
    "    count = 0\n",
    "    permlist = []\n",
    "    perm = permutations([w,x,y,z]) \n",
    "    for i in list(perm): \n",
    "        permlist.append(i)\n",
    "    return permlist"
   ]
  },
  {
   "cell_type": "code",
   "execution_count": 6,
   "metadata": {},
   "outputs": [],
   "source": [
    "permlist = permutations_no('LHR', 'CPH', 'HEL', 'MOW')"
   ]
  },
  {
   "cell_type": "markdown",
   "metadata": {},
   "source": [
    "***"
   ]
  },
  {
   "cell_type": "code",
   "execution_count": 7,
   "metadata": {},
   "outputs": [],
   "source": [
    "import csv"
   ]
  },
  {
   "cell_type": "code",
   "execution_count": 8,
   "metadata": {},
   "outputs": [],
   "source": [
    "import pandas as pd"
   ]
  },
  {
   "cell_type": "code",
   "execution_count": 9,
   "metadata": {},
   "outputs": [],
   "source": [
    "colnames=['A','B','C','airport_code','E','latitude', 'longitude','H','I', 'J','K'] \n",
    "file = pd.read_csv('airport.csv', names=colnames)"
   ]
  },
  {
   "cell_type": "code",
   "execution_count": 10,
   "metadata": {},
   "outputs": [
    {
     "data": {
      "text/html": [
       "<div>\n",
       "<style scoped>\n",
       "    .dataframe tbody tr th:only-of-type {\n",
       "        vertical-align: middle;\n",
       "    }\n",
       "\n",
       "    .dataframe tbody tr th {\n",
       "        vertical-align: top;\n",
       "    }\n",
       "\n",
       "    .dataframe thead th {\n",
       "        text-align: right;\n",
       "    }\n",
       "</style>\n",
       "<table border=\"1\" class=\"dataframe\">\n",
       "  <thead>\n",
       "    <tr style=\"text-align: right;\">\n",
       "      <th></th>\n",
       "      <th>A</th>\n",
       "      <th>B</th>\n",
       "      <th>C</th>\n",
       "      <th>airport_code</th>\n",
       "      <th>E</th>\n",
       "      <th>latitude</th>\n",
       "      <th>longitude</th>\n",
       "      <th>H</th>\n",
       "      <th>I</th>\n",
       "      <th>J</th>\n",
       "      <th>K</th>\n",
       "    </tr>\n",
       "  </thead>\n",
       "  <tbody>\n",
       "    <tr>\n",
       "      <th>2048</th>\n",
       "      <td>Herat</td>\n",
       "      <td>Herat</td>\n",
       "      <td>Afghanistan</td>\n",
       "      <td>HEA</td>\n",
       "      <td>OAHR</td>\n",
       "      <td>34.210017</td>\n",
       "      <td>62.228300</td>\n",
       "      <td>3206</td>\n",
       "      <td>4.5</td>\n",
       "      <td>U</td>\n",
       "      <td>Asia/Kabul</td>\n",
       "    </tr>\n",
       "    <tr>\n",
       "      <th>2049</th>\n",
       "      <td>Jalalabad</td>\n",
       "      <td>Jalalabad</td>\n",
       "      <td>Afghanistan</td>\n",
       "      <td>JAA</td>\n",
       "      <td>OAJL</td>\n",
       "      <td>34.399842</td>\n",
       "      <td>70.498625</td>\n",
       "      <td>1814</td>\n",
       "      <td>4.5</td>\n",
       "      <td>U</td>\n",
       "      <td>Asia/Kabul</td>\n",
       "    </tr>\n",
       "    <tr>\n",
       "      <th>2050</th>\n",
       "      <td>Kabul Intl</td>\n",
       "      <td>Kabul</td>\n",
       "      <td>Afghanistan</td>\n",
       "      <td>KBL</td>\n",
       "      <td>OAKB</td>\n",
       "      <td>34.565853</td>\n",
       "      <td>69.212328</td>\n",
       "      <td>5877</td>\n",
       "      <td>4.5</td>\n",
       "      <td>U</td>\n",
       "      <td>Asia/Kabul</td>\n",
       "    </tr>\n",
       "    <tr>\n",
       "      <th>2051</th>\n",
       "      <td>Kandahar</td>\n",
       "      <td>Kandahar</td>\n",
       "      <td>Afghanistan</td>\n",
       "      <td>KDH</td>\n",
       "      <td>OAKN</td>\n",
       "      <td>31.505756</td>\n",
       "      <td>65.847822</td>\n",
       "      <td>3337</td>\n",
       "      <td>4.5</td>\n",
       "      <td>U</td>\n",
       "      <td>Asia/Kabul</td>\n",
       "    </tr>\n",
       "    <tr>\n",
       "      <th>2052</th>\n",
       "      <td>Maimana</td>\n",
       "      <td>Maimama</td>\n",
       "      <td>Afghanistan</td>\n",
       "      <td>MMZ</td>\n",
       "      <td>OAMN</td>\n",
       "      <td>35.930789</td>\n",
       "      <td>64.760917</td>\n",
       "      <td>2743</td>\n",
       "      <td>4.5</td>\n",
       "      <td>U</td>\n",
       "      <td>Asia/Kabul</td>\n",
       "    </tr>\n",
       "  </tbody>\n",
       "</table>\n",
       "</div>"
      ],
      "text/plain": [
       "               A          B            C airport_code     E   latitude  \\\n",
       "2048       Herat      Herat  Afghanistan          HEA  OAHR  34.210017   \n",
       "2049   Jalalabad  Jalalabad  Afghanistan          JAA  OAJL  34.399842   \n",
       "2050  Kabul Intl      Kabul  Afghanistan          KBL  OAKB  34.565853   \n",
       "2051    Kandahar   Kandahar  Afghanistan          KDH  OAKN  31.505756   \n",
       "2052     Maimana    Maimama  Afghanistan          MMZ  OAMN  35.930789   \n",
       "\n",
       "      longitude     H    I  J           K  \n",
       "2048  62.228300  3206  4.5  U  Asia/Kabul  \n",
       "2049  70.498625  1814  4.5  U  Asia/Kabul  \n",
       "2050  69.212328  5877  4.5  U  Asia/Kabul  \n",
       "2051  65.847822  3337  4.5  U  Asia/Kabul  \n",
       "2052  64.760917  2743  4.5  U  Asia/Kabul  "
      ]
     },
     "execution_count": 10,
     "metadata": {},
     "output_type": "execute_result"
    }
   ],
   "source": [
    "file['airport_code'] = file['airport_code'].astype('str')\n",
    "file.head()"
   ]
  },
  {
   "cell_type": "markdown",
   "metadata": {},
   "source": [
    "***"
   ]
  },
  {
   "cell_type": "markdown",
   "metadata": {},
   "source": [
    "***"
   ]
  },
  {
   "cell_type": "markdown",
   "metadata": {},
   "source": [
    "### Working code to calculate distance:"
   ]
  },
  {
   "cell_type": "code",
   "execution_count": 11,
   "metadata": {},
   "outputs": [],
   "source": [
    "from math import pi,sin,cos,acos,floor"
   ]
  },
  {
   "cell_type": "code",
   "execution_count": 12,
   "metadata": {},
   "outputs": [],
   "source": [
    "def distanceBetweenAirports(latitude1,longitude1,latitude2,longitude2):\n",
    "    radius_earth = 6371  # km\n",
    "    theta1 = longitude1 * (2 * pi) / 360\n",
    "    theta2 = longitude2 * (2 * pi) / 360\n",
    "    phi1 = (90 - latitude1) * (2 * pi) / 360\n",
    "    phi2 = (90 - latitude2) * (2 * pi) / 360\n",
    "    distance = acos( sin(phi1) * sin(phi2) * cos(abs(theta1 - theta2)) +  cos(phi1) * cos(phi2) ) * radius_earth\n",
    "    return floor(distance)"
   ]
  },
  {
   "cell_type": "code",
   "execution_count": 13,
   "metadata": {},
   "outputs": [
    {
     "name": "stdout",
     "output_type": "stream",
     "text": [
      "['DUB', 'LHR', 'CPH', 'HEL', 'MOW', 'DUB']\n",
      "['DUB', 'LHR', 'CPH', 'MOW', 'HEL', 'DUB']\n",
      "['DUB', 'LHR', 'HEL', 'CPH', 'MOW', 'DUB']\n",
      "['DUB', 'LHR', 'HEL', 'MOW', 'CPH', 'DUB']\n",
      "['DUB', 'LHR', 'MOW', 'CPH', 'HEL', 'DUB']\n",
      "['DUB', 'LHR', 'MOW', 'HEL', 'CPH', 'DUB']\n",
      "['DUB', 'CPH', 'LHR', 'HEL', 'MOW', 'DUB']\n",
      "['DUB', 'CPH', 'LHR', 'MOW', 'HEL', 'DUB']\n",
      "['DUB', 'CPH', 'HEL', 'LHR', 'MOW', 'DUB']\n",
      "['DUB', 'CPH', 'HEL', 'MOW', 'LHR', 'DUB']\n",
      "['DUB', 'CPH', 'MOW', 'LHR', 'HEL', 'DUB']\n",
      "['DUB', 'CPH', 'MOW', 'HEL', 'LHR', 'DUB']\n",
      "['DUB', 'HEL', 'LHR', 'CPH', 'MOW', 'DUB']\n",
      "['DUB', 'HEL', 'LHR', 'MOW', 'CPH', 'DUB']\n",
      "['DUB', 'HEL', 'CPH', 'LHR', 'MOW', 'DUB']\n",
      "['DUB', 'HEL', 'CPH', 'MOW', 'LHR', 'DUB']\n",
      "['DUB', 'HEL', 'MOW', 'LHR', 'CPH', 'DUB']\n",
      "['DUB', 'HEL', 'MOW', 'CPH', 'LHR', 'DUB']\n",
      "['DUB', 'MOW', 'LHR', 'CPH', 'HEL', 'DUB']\n",
      "['DUB', 'MOW', 'LHR', 'HEL', 'CPH', 'DUB']\n",
      "['DUB', 'MOW', 'CPH', 'LHR', 'HEL', 'DUB']\n",
      "['DUB', 'MOW', 'CPH', 'HEL', 'LHR', 'DUB']\n",
      "['DUB', 'MOW', 'HEL', 'LHR', 'CPH', 'DUB']\n",
      "['DUB', 'MOW', 'HEL', 'CPH', 'LHR', 'DUB']\n"
     ]
    },
    {
     "data": {
      "text/plain": [
       "{'DUB_LHR': 448,\n",
       " 'LHR_CPH': 979,\n",
       " 'CPH_HEL': 892,\n",
       " 'HEL_MOW': 898,\n",
       " 'MOW_DUB': 2791,\n",
       " 'CPH_MOW': 1556,\n",
       " 'MOW_HEL': 898,\n",
       " 'HEL_DUB': 2023,\n",
       " 'LHR_HEL': 1847,\n",
       " 'HEL_CPH': 892,\n",
       " 'MOW_CPH': 1556,\n",
       " 'CPH_DUB': 1241,\n",
       " 'LHR_MOW': 2522,\n",
       " 'DUB_CPH': 1241,\n",
       " 'CPH_LHR': 979,\n",
       " 'HEL_LHR': 1847,\n",
       " 'MOW_LHR': 2522,\n",
       " 'LHR_DUB': 448,\n",
       " 'DUB_HEL': 2023,\n",
       " 'DUB_MOW': 2791}"
      ]
     },
     "execution_count": 13,
     "metadata": {},
     "output_type": "execute_result"
    }
   ],
   "source": [
    "airport_distances = {}\n",
    "for perms in permlist:\n",
    "    perms = ['DUB'] + list(perms) + ['DUB']\n",
    "    print(perms)\n",
    "    \n",
    "    for i in range(0, len(perms)-1):\n",
    "        airport1 = file[file['airport_code']== perms[i]]\n",
    "        airport2 = file[file['airport_code']== perms[i+1]]\n",
    "        \n",
    "        airport_distances['_'.join([str(airport1['airport_code'].values[0]),str(airport2['airport_code'].values[0])])] = distanceBetweenAirports(float(airport1['latitude']), float(airport1['longitude']), float(airport2['latitude']), float(airport2['longitude']))\n",
    "\n",
    "airport_distances\n"
   ]
  },
  {
   "cell_type": "code",
   "execution_count": 14,
   "metadata": {},
   "outputs": [],
   "source": []
  }
 ],
 "metadata": {
  "kernelspec": {
   "display_name": "Python 3",
   "language": "python",
   "name": "python3"
  },
  "language_info": {
   "codemirror_mode": {
    "name": "ipython",
    "version": 3
   },
   "file_extension": ".py",
   "mimetype": "text/x-python",
   "name": "python",
   "nbconvert_exporter": "python",
   "pygments_lexer": "ipython3",
   "version": "3.7.2"
  }
 },
 "nbformat": 4,
 "nbformat_minor": 2
}

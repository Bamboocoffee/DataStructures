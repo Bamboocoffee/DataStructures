{
 "cells": [
  {
   "cell_type": "markdown",
   "metadata": {},
   "source": [
    "# Airtravel Optimization Program"
   ]
  },
  {
   "cell_type": "markdown",
   "metadata": {},
   "source": [
    "The below code is a our implementation of a program that calculates the lowest cost route for a aircraft to take. The user provides a csv file, that is read, line by line (containing the airports needed to go and aircrft used) and determines the optimal route to take in order to minimise the costs. \n",
    "\n",
    "The base currency is euro. In order to refuel the aircraft, you must purchase the refuel the aircraft to full using the local currecy. One kilometer requires one unit of fuel and can be purchased with one unit of the local currency. This means that the gain and loss of the cost of fuel is in the conversion rate between euro and the local currency.\n",
    "\n",
    "To complete this exercise, we have implemented various data structres and algorithms. These will be explained as we make our way down the notebook."
   ]
  },
  {
   "cell_type": "code",
   "execution_count": 1,
   "metadata": {},
   "outputs": [],
   "source": [
    "import csv\n",
    "import os\n",
    "from math import pi, sin, cos, acos, floor"
   ]
  },
  {
   "cell_type": "markdown",
   "metadata": {},
   "source": [
    "## Preparing"
   ]
  },
  {
   "cell_type": "markdown",
   "metadata": {},
   "source": [
    "Below we have developed both functions and classes that are used at the beginning of the program. The following is a breakdown:\n",
    "\n",
    "1. **Read file function:** The function reads in a csv file and creates a list for each line in the csv. Each line in the csv is then appended to a bigger datamatrix list. This list will contain the airports that are to be visited and the aircraft to be used.\n",
    "2. **Aircraft class:** This class builds the aircraft to be used. Each aircraft object is to be assigned the model, maundacturer, max capacity and the currency capacity of the aircraft. Approprite setters and getters are implemented in order to access the object variables later in the program.\n",
    "3. **Airport class**: Similar to the aircraft, each airport that is needed in the program is instantiated and is variables, airport code, longitutde, latitude and the exchange rate from euro is passed."
   ]
  },
  {
   "cell_type": "code",
   "execution_count": 2,
   "metadata": {},
   "outputs": [],
   "source": [
    "def read_file(file_name):\n",
    "    \"\"\"Read data in the file and Create Matrix\"\"\"\n",
    "    datamatrix = []\n",
    "    datafile = open(file_name)\n",
    "    for line in datafile:\n",
    "        datamatrix.append(line.split(\",\"))\n",
    "    datafile.close()\n",
    "    return datamatrix"
   ]
  },
  {
   "cell_type": "code",
   "execution_count": 3,
   "metadata": {},
   "outputs": [],
   "source": [
    "def buildAircraft():\n",
    "    \"\"\"Builds objects for each of the aircraft - with attributes model, manufacturer, and range.\n",
    "    Returns a dictionary of this\"\"\"\n",
    "    aircraftDict = {}\n",
    "    with open('aircraft.csv', newline='', encoding=\"utf8\") as airplane_file:  # opens the csv file\n",
    "        reader = csv.reader(airplane_file)  # reads the cotents to a variable\n",
    "        next(reader, None)  # returns none at the end of the file\n",
    "        for airplane in reader:  # iterates through the reader\n",
    "            if airplane[2] == \"imperial\":\n",
    "                airRange = int(airplane[4]) * 1.609\n",
    "            else:\n",
    "                airRange = airplane[4]\n",
    "            aircraftDict[airplane[0]] = Aircraft(airplane[0], airplane[3], airRange)\n",
    "    return aircraftDict"
   ]
  },
  {
   "cell_type": "code",
   "execution_count": 4,
   "metadata": {},
   "outputs": [],
   "source": [
    "class Aircraft: # Class that contains all aircraft\n",
    "    \n",
    "    def __init__(self, model, manufacturer, max_capacity, current_capacity = 0):\n",
    "        self._model = model # model of the aircraft\n",
    "        self._manufacturer = manufacturer # manufacturer of the aircraft\n",
    "        self._max_capacity = max_capacity # max capacity of the aircraft\n",
    "        self._current_capacity = current_capacity # current capacity of the aircraft\n",
    "    \n",
    "    @property\n",
    "    def max_capacity(self):\n",
    "        return self._max_capacity # returns the max distance\n",
    "    @property\n",
    "    def manufacturer(self):\n",
    "        return self._manufacturer # returns the manufacturer\n",
    "    @property\n",
    "    def model(self):\n",
    "        return self._model # returns the model\n",
    "    @property\n",
    "    def current_capacity(self):\n",
    "        return self._current_capacity # returns the current capacity left in the plane\n",
    "\n",
    "class Airport:\n",
    "    \n",
    "    def __init__(self, airport_code, longitude, latitude, exchangeRate):\n",
    "        self.airport_code = airport_code # airport code of the airport\n",
    "        self._longitude = longitude # longitude of the airport\n",
    "        self._latitude = latitude # latitude of the airport\n",
    "        self._exchange_rate = exchangeRate # currency used by the airport\n",
    "        \n",
    "    @property\n",
    "    def longitude(self):\n",
    "        return self._longitude # returns the longitude of the airport\n",
    "    @property\n",
    "    def latitude(self):\n",
    "        return self._latitude # returns the latitude of the airport\n",
    "    @property\n",
    "    def exchange_rate(self):\n",
    "        return self._exchange_rate # returns the currency used by the airport\n",
    "    @exchange_rate.setter\n",
    "    def exchange_rate(self, exchangeRate):\n",
    "        self._exchange_rate = exchangeRate # sets the currency of the airport\n",
    "        "
   ]
  },
  {
   "cell_type": "markdown",
   "metadata": {},
   "source": [
    "## Building the Aircraft\n",
    "\n",
    "Time complexity: O(n)"
   ]
  },
  {
   "cell_type": "markdown",
   "metadata": {},
   "source": [
    "Below is a function that builds each of the aircraft."
   ]
  },
  {
   "cell_type": "code",
   "execution_count": 5,
   "metadata": {},
   "outputs": [],
   "source": [
    "def buildAircraft():\n",
    "    \"\"\"Builds objects for each of the aircraft - with attributes model, manufacturer, and range.\n",
    "    Returns a dictionary of this\"\"\"\n",
    "    aircraftDict = {}\n",
    "    with open('aircraft.csv', newline='', encoding=\"utf8\") as airplane_file:  # opens the csv file\n",
    "        reader = csv.reader(airplane_file)  # reads the cotents to a variable\n",
    "        next(reader, None)  # returns none at the end of the file\n",
    "        for airplane in reader:  # iterates through the reader\n",
    "            if airplane[2] == \"imperial\":\n",
    "                airRange = int(airplane[4]) * 1.609\n",
    "            else:\n",
    "                airRange = airplane[4]\n",
    "            aircraftDict[airplane[0]] = Aircraft(airplane[0], airplane[3], airRange)\n",
    "    return aircraftDict"
   ]
  },
  {
   "cell_type": "markdown",
   "metadata": {},
   "source": [
    "## Building Airport Objects\n",
    "\n",
    "Time complexity: 2n^2 + 4n ----> O(n^2)"
   ]
  },
  {
   "cell_type": "code",
   "execution_count": 38,
   "metadata": {},
   "outputs": [],
   "source": [
    "def buildAirports(listy):\n",
    "    \"\"\"Takes in a list of the route to be analysed. The airports are searched for in the csv.\n",
    "    Objects of that airport are then created - with attributes latitude, longitude, and the exchange rate to Euro.\n",
    "    It returns a dictionary with airport_code as key and object as value\"\"\"\n",
    "    listx = listy[:-1]\n",
    "    airport_list = []  # creates a new list\n",
    "\n",
    "    with open('airport.csv', newline='', encoding=\"utf8\") as airport_file:  # opens the csv file\n",
    "        reader = csv.reader(airport_file)  # reads the cotents to a variable\n",
    "        next(reader, None)  # returns none at the end of the file\n",
    "        for airport in reader:  # iterates through the reader\n",
    "            if airport[4] in listx:\n",
    "                airport_code = airport[4]  # assigns variable\n",
    "                country_name = airport[3]  # assigns variable\n",
    "                longitude = airport[6]  # assigns variable\n",
    "                latitude = airport[7]  # assigns variable\n",
    "                templist = [airport_code, country_name, longitude, latitude]\n",
    "                airport_list.append(templist)\n",
    "    if (len(airport_list)) != 5:\n",
    "        return False\n",
    "\n",
    "    country_currency_list = []  # creates a new list\n",
    "\n",
    "    with open('countrycurrency.csv', newline='', encoding=\"utf8\") as countrycurrency_file:  # opens the csv file\n",
    "        reader = csv.reader(countrycurrency_file)  # reads the cotents to a variable\n",
    "        next(reader, None)  # returns none at the end of the file\n",
    "        for country in reader:  # iterates through the reader\n",
    "            temp_list = [country[0], country[14]]  # temp list created\n",
    "            country_currency_list.append(temp_list)  # appends temp list to the main list\n",
    "\n",
    "    currency_list = []  # creates a new list\n",
    "\n",
    "    with open('currencyrates.csv', newline='', encoding=\"utf8\") as currencyrates_file:  # opens the csv file\n",
    "        reader = csv.reader(currencyrates_file)  # reads the cotents to a variable\n",
    "        next(reader, None)  # returns none at the end of the file\n",
    "        for currency in reader:  # iterates through the reader\n",
    "            temp_list = [currency[1],currency[2]]  # temp list created\n",
    "            currency_list.append(temp_list)  # appends temp list to the main list\n",
    "\n",
    "    #Outer for loops goes through list of countries and the currency they have. Inner loop will go through currency \n",
    "    #and exchange rate list, matches currency to exchange rate, and creates a final list of lists with the \n",
    "    #country and currency rate in each inner list.\n",
    "    final_list = []\n",
    "    for i in country_currency_list:\n",
    "        for x in currency_list:\n",
    "            if i[1] == x[0]:\n",
    "                templist = [i[0], x[1]]\n",
    "                final_list.append(templist)\n",
    "\n",
    "    #Outer for loop will go through list of lists that contains airport, country, latitude, longitude, \n",
    "    #and the inner loop will go through the list of airports and currency information and then match \n",
    "    #them with the airport in the outer list. The inner loop will then extend \n",
    "    x = 0\n",
    "    i = 0 \n",
    "    while x < len(airport_list):\n",
    "        while i < len(final_list):\n",
    "            if airport_list[x][1] == final_list[i][0]:\n",
    "                airport_list[x].extend(final_list[i])\n",
    "                break\n",
    "            i+=1\n",
    "        x+=1\n",
    "    # Make a dictionary with the Airport code as the key and the value being the airport object of that key\n",
    "    finalAirports = {}\n",
    "    for i in airport_list:\n",
    "        finalAirports[i[0]] = Airport(i[0], i[2], i[3], i[5])\n",
    "\n",
    "    return finalAirports\n",
    "\n"
   ]
  },
  {
   "cell_type": "markdown",
   "metadata": {},
   "source": [
    "## Check Plane Capability"
   ]
  },
  {
   "cell_type": "markdown",
   "metadata": {},
   "source": [
    "Should go here!!"
   ]
  },
  {
   "cell_type": "markdown",
   "metadata": {},
   "source": [
    "## Distance"
   ]
  },
  {
   "cell_type": "markdown",
   "metadata": {},
   "source": [
    "### Calculating all Route Permutations\n",
    "\n",
    "Time complexity: O(n^2)"
   ]
  },
  {
   "cell_type": "code",
   "execution_count": 20,
   "metadata": {},
   "outputs": [],
   "source": [
    "def permutation(lst): \n",
    "    if len(lst) == 0: \n",
    "        return [] \n",
    "    if len(lst) == 1: \n",
    "        return [lst] \n",
    "    l = [] \n",
    "    for i in range(len(lst)): \n",
    "        m = lst[i] \n",
    "        remLst = lst[:i] + lst[i+1:] \n",
    "        for p in permutation(remLst): \n",
    "            l.append([m] + p) \n",
    "    return l "
   ]
  },
  {
   "cell_type": "markdown",
   "metadata": {},
   "source": [
    "Time complexity: O(n)"
   ]
  },
  {
   "cell_type": "code",
   "execution_count": 22,
   "metadata": {},
   "outputs": [],
   "source": [
    "def allPerms(listx):\n",
    "    \"\"\" Creates permutations of all possible routes using the input list of airports and plane \"\"\"\n",
    "    \n",
    "    a = listx[0] # takes the departure airport\n",
    "    permutation_list = listx[1:-1] # creates a list that removes the departure airport and the aircraft\n",
    "\n",
    "    count = 0\n",
    "    permlist = []\n",
    "    newpermlist = []\n",
    "    perm = permutation(permutation_list) \n",
    "    for i in list(perm): \n",
    "        permlist.append(i)\n",
    "\n",
    "    for perms in permlist:\n",
    "        perms = [a] + list(perms) + [a]\n",
    "        newpermlist.append(perms)\n",
    "\n",
    "    return newpermlist\n"
   ]
  },
  {
   "cell_type": "markdown",
   "metadata": {},
   "source": [
    "### Calculates distances between each airport pair\n",
    "\n",
    "Time complexity: n^4"
   ]
  },
  {
   "cell_type": "code",
   "execution_count": 41,
   "metadata": {},
   "outputs": [],
   "source": [
    "def distanceBetweenAirports(latitude1, longitude1, latitude2, longitude2):\n",
    "    radius_earth = 6371  # km\n",
    "    theta1 = longitude1 * (2 * pi) / 360\n",
    "    theta2 = longitude2 * (2 * pi) / 360\n",
    "    phi1 = (90 - latitude1) * (2 * pi) / 360\n",
    "    phi2 = (90 - latitude2) * (2 * pi) / 360\n",
    "    distance = acos(sin(phi1) * sin(phi2) * cos(abs(theta1 - theta2)) + cos(phi1) * cos(phi2)) * radius_earth\n",
    "    return floor(distance)"
   ]
  },
  {
   "cell_type": "code",
   "execution_count": 42,
   "metadata": {},
   "outputs": [],
   "source": [
    "def leg_distance_calculator(listx, airport_list):\n",
    "    \"\"\"Takes list of route and aircraft required. Also takes in dictionary of airport objects. Creates permutation\n",
    "    list of airports. Using the objects passed, it finds the distance between each airport and saves the leg\n",
    "    and distance as a key and value in a dictionary\"\"\"\n",
    "    \n",
    "    a = listx[0] # takes the departure airport\n",
    "    permutation_list = listx[1:-1] # creates a list that removes the departure airport and the aircraft\n",
    "\n",
    "    count = 0\n",
    "    permlist = []\n",
    "    perm = permutation(permutation_list) \n",
    "    for i in list(perm): \n",
    "        permlist.append(i)\n",
    "\n",
    "    airport_distances = {}\n",
    "\n",
    "    for perms in permlist:\n",
    "        perms = [a] + list(perms) + [a]\n",
    "        for i in range(0, len(perms) - 1):\n",
    "            for j in airport_list:\n",
    "                if j == perms[i]:\n",
    "                    airport1 = airport_list[perms[i]]\n",
    "                    for k in airport_list:\n",
    "                        if k == perms[i + 1]:\n",
    "                            airport2 = airport_list[perms[i + 1]]\n",
    "                    distance = distanceBetweenAirports(float(airport1.longitude), float(airport1.latitude),\n",
    "                                                       float(airport2.longitude), float(airport2.latitude))\n",
    "                    if distance != 0:\n",
    "                        airport_distances['_'.join([airport1.airport_code, airport2.airport_code])] = distance\n",
    "\n",
    "    return airport_distances\n"
   ]
  },
  {
   "cell_type": "markdown",
   "metadata": {},
   "source": [
    "## Costing"
   ]
  },
  {
   "cell_type": "markdown",
   "metadata": {},
   "source": [
    "### Calculating the Cost of each leg\n",
    "\n",
    "Time complexity: O(n^2)"
   ]
  },
  {
   "cell_type": "code",
   "execution_count": 43,
   "metadata": {},
   "outputs": [],
   "source": [
    "def findLegCosts(leg_distance_dict, airport_object_dict):\n",
    "    \"\"\"Takes in leg dictionary and airport objects. For each leg, it takes the departure airport\n",
    "    and gets the local currency conversion rate. It then multiplies it by the distance to get the cost of each leg.\n",
    "    Returns a dictionary with the cost of each leg.\"\"\"\n",
    "    costDict = {}\n",
    "    for i in leg_distance_dict:\n",
    "        myKey = i[:3]\n",
    "        x = 0\n",
    "        for j in airport_object_dict:\n",
    "            if myKey == j:\n",
    "                cost = round(float(airport_object_dict[j].exchange_rate) * float(leg_distance_dict[i]), 2)\n",
    "                costDict[i] = cost\n",
    "            x += 1\n",
    "    return costDict"
   ]
  },
  {
   "cell_type": "markdown",
   "metadata": {},
   "source": [
    "### Calculating the Cost of each Rotue\n",
    "\n",
    "Time complexity: O(n^2)"
   ]
  },
  {
   "cell_type": "code",
   "execution_count": 44,
   "metadata": {},
   "outputs": [],
   "source": [
    "def findRouteCost(myList, costDict):\n",
    "    \"\"\"This returns the total cost of each route - using the cost of each leg. Returned in a dictionary\n",
    "    with: Key: route(tuple) & Values: Total cost\"\"\"\n",
    "    routeCostDict = {}\n",
    "    x = 0\n",
    "    while x < len(myList):\n",
    "        i = 0\n",
    "        cost = 0\n",
    "        while i < (len(myList[x]) - 1):\n",
    "            myKey = str(myList[x][i]) + \"_\" + str(myList[x][i + 1])\n",
    "            cost += costDict[myKey]\n",
    "            cost = round(cost, 2)\n",
    "            i += 1\n",
    "        routeCostDict[tuple(myList[x])] = cost\n",
    "        x += 1\n",
    "    return routeCostDict\n"
   ]
  },
  {
   "cell_type": "markdown",
   "metadata": {},
   "source": [
    "## Check Aircraft Capability\n",
    "\n",
    "Time complexity: O(n^2 + n)"
   ]
  },
  {
   "cell_type": "code",
   "execution_count": 45,
   "metadata": {},
   "outputs": [],
   "source": [
    "def checkAircraftAllowed(dictAirplane, distanceDict, input_list):\n",
    "    \"\"\"Checks that the aircraft being used can do the route. Returns the routes that are\n",
    "    only possible with the aircraft\"\"\"\n",
    "    planeToFly = input_list[5]\n",
    "    planeRange = dictAirplane[planeToFly].max_capacity\n",
    "    distanceDict_copy = distanceDict.copy()\n",
    "    for j in distanceDict_copy:\n",
    "        if distanceDict_copy[j] < int(planeRange):\n",
    "            distanceDict.pop(j)\n",
    "    finalRouteDict_copy = finalRouteDict.copy()\n",
    "    for i in finalRouteDict_copy:\n",
    "        toRemove = False\n",
    "        for j in distanceDict:\n",
    "            x = 0\n",
    "            while x < len(i) - 1:\n",
    "                if str(i[x] + \"_\" + i[x + 1]) == j:\n",
    "                    toRemove = True\n",
    "                x += 1\n",
    "        if toRemove:\n",
    "            finalRouteDict.pop(i)"
   ]
  },
  {
   "cell_type": "markdown",
   "metadata": {},
   "source": [
    "## Caching"
   ]
  },
  {
   "cell_type": "code",
   "execution_count": 46,
   "metadata": {},
   "outputs": [],
   "source": [
    "def cacheRoutes(airportsInRoute,plane,cost,dictCache):\n",
    "    ''''''\n",
    "    firstAirport = airportsInRoute[0]\n",
    "    middleAirports = airportsInRoute[1:-1]\n",
    "    middleAirports.append(plane)\n",
    "    middleAirports.append(str(cost))\n",
    "    dictCache[firstAirport] = middleAirports"
   ]
  },
  {
   "cell_type": "code",
   "execution_count": 47,
   "metadata": {},
   "outputs": [],
   "source": [
    "def checkCache(airportList, myCache):\n",
    "    ''''''\n",
    "    if len(myCache) != 0:\n",
    "        for i in myCache:\n",
    "            if airportList[0] == i:\n",
    "                if set(airportList[1:-1]) == set(myCache[i][0:-2]) and airportList[-1].rstrip() == myCache[i][-2]:\n",
    "                    #myString = \"The cheapest route is\" + str(i) + str(cacheDict[i]) + str(i) + \"and its cost is :€\" + str(cacheDict[i][5])) \n",
    "                    myReturn = [str(i)]\n",
    "                    myReturn.extend(myCache[i][0:4])\n",
    "                    myReturn.append(str(i))\n",
    "                    myReturn.append(str(myCache[i][5]))\n",
    "                    return myReturn\n",
    "                else:\n",
    "                    return False\n",
    "    return False"
   ]
  },
  {
   "cell_type": "markdown",
   "metadata": {},
   "source": [
    "## Analysis"
   ]
  },
  {
   "cell_type": "code",
   "execution_count": 48,
   "metadata": {},
   "outputs": [
    {
     "name": "stdout",
     "output_type": "stream",
     "text": [
      "Please enter the name of the file containing the routes: \n",
      "> test.csv\n",
      "Opening test.csv....\n",
      "This route is not possible with the 777. Try another plane. \n",
      "The cheapest route is ('SNN', 'ORK', 'CDG', 'SIN', 'MAN', 'SNN') and its cost is: €19773.1\n",
      "The cheapest route is ('BOS', 'ORD', 'SFO', 'DFW', 'ATL', 'BOS') and its cost is: €8918.71\n",
      "The cheapest route is ('DUB', 'LHR', 'MOS', 'HEL', 'CPH', 'DUB') and its cost is: €4434.29\n",
      "The cheapest1 route is ['BOS', 'ORD', 'SFO', 'DFW', 'ATL', 'BOS'] and its cost is: €8918.71\n"
     ]
    }
   ],
   "source": [
    "dictOfAircrafts = buildAircraft()  # Creates aircraft objects\n",
    "cacheDict = {}\n",
    "print(\"Please enter the name of the file containing the routes: \")\n",
    "file_name = input(\"> \")\n",
    "while not os.path.isfile(file_name):\n",
    "    print(\"I am sorry. I do not believe that file exists. Remember, it is case sensitive. Please try again.\")\n",
    "    print(\"=\" * 75)\n",
    "    print(\"\")\n",
    "    file_name = input(\"> \")\n",
    "\n",
    "print(f\"Opening {file_name}....\")\n",
    "datamatrix = read_file(file_name)\n",
    "i = 0\n",
    "while i < len(datamatrix):\n",
    "    inputList = datamatrix[i]  # sample list passed\n",
    "    cacheCheck = checkCache(inputList,cacheDict)\n",
    "    if cacheCheck != False:\n",
    "        print(\"The cheapest route is \" + str(cacheCheck[0:-1]) + \" and its cost is: €\" + str(cacheCheck[-1]))\n",
    "        i += 1\n",
    "        continue\n",
    "    else:\n",
    "        pass\n",
    "    inputList[-1] = inputList[-1].rstrip()\n",
    "    airport_objects_dict = buildAirports(inputList)  # creates the objects for each airport\n",
    "    if not airport_objects_dict:\n",
    "        print(\"One of the airports specified does not exist, skipping this route.\")\n",
    "        i += 1\n",
    "        continue\n",
    "\n",
    "    # create all the possible routes\n",
    "    all_routes_list = allPerms(inputList)\n",
    "\n",
    "    # Finds distances and costs of each leg\n",
    "    dict_routes_distances = leg_distance_calculator(inputList, airport_objects_dict)\n",
    "    leg_costs = findLegCosts(dict_routes_distances, airport_objects_dict)\n",
    "\n",
    "    # Finds total route cost\n",
    "    finalRouteDict = findRouteCost(all_routes_list, leg_costs)\n",
    "\n",
    "    # Removes distances that the aircraft cannot do\n",
    "    checkAircraftAllowed(dictOfAircrafts, dict_routes_distances, inputList)\n",
    "    if (len(finalRouteDict)) == 0:\n",
    "        print(\"This route is not possible with the \" + str(inputList[-1]) + \". Try another plane. \")\n",
    "        i += 1\n",
    "        continue\n",
    "    cheapestRoute = min(finalRouteDict, key=finalRouteDict.get)\n",
    "    cost = finalRouteDict[cheapestRoute]\n",
    "    cacheRoutes(list(cheapestRoute), inputList[-1].rstrip(), cost, cacheDict)\n",
    "    print(\"The cheapest route is \" + str(cheapestRoute) + \" and its cost is: €\" + str(cost))\n",
    "    i += 1\n"
   ]
  },
  {
   "cell_type": "markdown",
   "metadata": {},
   "source": [
    "### Unit tests\n",
    "\n",
    "- Passing a plane that doesnt exist **DONE\n",
    "- Passing a plane that can't fly **DONE\n",
    "- Check to make sure that no two consecutive airports are the same **DONE\n",
    "- airport that doesn't exist **DONE\n",
    "- check that units match with assumptions\n",
    "- Check that all exchange rates are there **DONE\n",
    "\n",
    "## TODO\n",
    "\n",
    "- Ask about unit tests\n",
    "- Ask about O(n^4)\n",
    "\n",
    "## Number of data structures/algorithms: 6\n",
    " - List\n",
    " - Tuple\n",
    " - dictionary \n",
    " - Pricing algorithm\n",
    " - Plane allowed to fly route algorithm\n",
    " - Leg and distance calculation algorithm"
   ]
  },
  {
   "cell_type": "code",
   "execution_count": null,
   "metadata": {},
   "outputs": [],
   "source": []
  }
 ],
 "metadata": {
  "kernelspec": {
   "display_name": "Python 3",
   "language": "python",
   "name": "python3"
  },
  "language_info": {
   "codemirror_mode": {
    "name": "ipython",
    "version": 3
   },
   "file_extension": ".py",
   "mimetype": "text/x-python",
   "name": "python",
   "nbconvert_exporter": "python",
   "pygments_lexer": "ipython3",
   "version": "3.6.8"
  }
 },
 "nbformat": 4,
 "nbformat_minor": 2
}

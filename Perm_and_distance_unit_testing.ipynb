{
 "cells": [
  {
   "cell_type": "markdown",
   "metadata": {},
   "source": [
    "## Unittesting:"
   ]
  },
  {
   "cell_type": "markdown",
   "metadata": {},
   "source": [
    "Within the TestMethods Class, there are three methods that test the functionality of each method:"
   ]
  },
  {
   "cell_type": "markdown",
   "metadata": {},
   "source": [
    "**1. test_Permutations method**: This method tests whether the length of the permutation list returned is equal to the factorial of n (number of inputs). This is achieved by finding the length of the permutations list and importing the math module to find the factorial of n. The method also checks whether the returned permutation list is equal to the expected output. If both tests prove equality, it returns true. \n",
    "\n",
    "**2. test_AllPerms method**: This method checks whether the allPerms method returns all the possible permutations of the input list provided with the first airport being at the beginning and end of each permutation. If the expected output is equal to the return permutations list, test_AllPerms returns true.\n",
    "\n",
    "**3. test_Permutations_no method**: This method checks whether the distance of each pair within the input list is equal to the expected output. An airport dictionary of airport object is created using the optimumRoute method. Every possible route pair of the input list is calculated using the allPerms method. The distance between each pair of aiport objects is calculated using the permutations_no method. If the returned dictionary of each pair of airport objects with the distance as its value is equal to the expected output, test_Permutations_no returns true. "
   ]
  },
  {
   "cell_type": "code",
   "execution_count": null,
   "metadata": {},
   "outputs": [],
   "source": [
    "import unittest\n",
    "\n",
    "class TestMethods(unittest.TestCase):\n",
    "    def test_Permutations(self):\n",
    "        import math\n",
    "        inputlist1 = ['CDG', 'SYD', 'LIN', 'CPH']\n",
    "        factorialnum = math.factorial(len(inputlist1))\n",
    "        perms1 = [['CDG', 'SYD', 'LIN', 'CPH'], ['CDG', 'SYD', 'CPH', 'LIN'], ['CDG', 'LIN', 'SYD', 'CPH'], ['CDG', 'LIN', 'CPH', 'SYD'], ['CDG', 'CPH', 'SYD', 'LIN'], ['CDG', 'CPH', 'LIN', 'SYD'], ['SYD', 'CDG', 'LIN', 'CPH'], ['SYD', 'CDG', 'CPH', 'LIN'], ['SYD', 'LIN', 'CDG', 'CPH'], ['SYD', 'LIN', 'CPH', 'CDG'], ['SYD', 'CPH', 'CDG', 'LIN'], ['SYD', 'CPH', 'LIN', 'CDG'], ['LIN', 'CDG', 'SYD', 'CPH'], ['LIN', 'CDG', 'CPH', 'SYD'], ['LIN', 'SYD', 'CDG', 'CPH'], ['LIN', 'SYD', 'CPH', 'CDG'], ['LIN', 'CPH', 'CDG', 'SYD'], ['LIN', 'CPH', 'SYD', 'CDG'], ['CPH', 'CDG', 'SYD', 'LIN'], ['CPH', 'CDG', 'LIN', 'SYD'], ['CPH', 'SYD', 'CDG', 'LIN'], ['CPH', 'SYD', 'LIN', 'CDG'], ['CPH', 'LIN', 'CDG', 'SYD'], ['CPH', 'LIN', 'SYD', 'CDG']]        \n",
    "        perms2 = ['CDG', 'CDG', 'CDG', 'CDG']\n",
    "        self.assertTrue(len(permutation(inputlist1)) == factorialnum)\n",
    "        self.assertTrue(permutation(inputlist1)==perms1)\n",
    "        self.assertFalse(permutation(inputlist1)==perms2)\n",
    "        \n",
    "    def test_AllPerms(self):\n",
    "        inputList = ['DUB', 'LHR', 'MOS', 'HEL', 'CPH', 'DUB']\n",
    "        possperms = [['DUB', 'LHR', 'MOS', 'HEL', 'CPH', 'DUB'], ['DUB', 'LHR', 'MOS', 'CPH', 'HEL', 'DUB'], ['DUB', 'LHR', 'HEL', 'MOS', 'CPH', 'DUB'], ['DUB', 'LHR', 'HEL', 'CPH', 'MOS', 'DUB'], ['DUB', 'LHR', 'CPH', 'MOS', 'HEL', 'DUB'], ['DUB', 'LHR', 'CPH', 'HEL', 'MOS', 'DUB'], ['DUB', 'MOS', 'LHR', 'HEL', 'CPH', 'DUB'], ['DUB', 'MOS', 'LHR', 'CPH', 'HEL', 'DUB'], ['DUB', 'MOS', 'HEL', 'LHR', 'CPH', 'DUB'], ['DUB', 'MOS', 'HEL', 'CPH', 'LHR', 'DUB'], ['DUB', 'MOS', 'CPH', 'LHR', 'HEL', 'DUB'], ['DUB', 'MOS', 'CPH', 'HEL', 'LHR', 'DUB'], ['DUB', 'HEL', 'LHR', 'MOS', 'CPH', 'DUB'], ['DUB', 'HEL', 'LHR', 'CPH', 'MOS', 'DUB'], ['DUB', 'HEL', 'MOS', 'LHR', 'CPH', 'DUB'], ['DUB', 'HEL', 'MOS', 'CPH', 'LHR', 'DUB'], ['DUB', 'HEL', 'CPH', 'LHR', 'MOS', 'DUB'], ['DUB', 'HEL', 'CPH', 'MOS', 'LHR', 'DUB'], ['DUB', 'CPH', 'LHR', 'MOS', 'HEL', 'DUB'], ['DUB', 'CPH', 'LHR', 'HEL', 'MOS', 'DUB'], ['DUB', 'CPH', 'MOS', 'LHR', 'HEL', 'DUB'], ['DUB', 'CPH', 'MOS', 'HEL', 'LHR', 'DUB'], ['DUB', 'CPH', 'HEL', 'LHR', 'MOS', 'DUB'], ['DUB', 'CPH', 'HEL', 'MOS', 'LHR', 'DUB']]\n",
    "        self.assertTrue(allPerms(inputList) == possperms)\n",
    "\n",
    "    def test_Permutations_no(self):\n",
    "        inputList = ['SYD', 'LHR', 'DUB', 'HEL', 'CPH', 'SYD']\n",
    "        airport_objects_dict = optimumRoute(inputList)\n",
    "        all_routes_list = allPerms(inputList) \n",
    "        dict_routes_distances = permutations_no(inputList, airport_objects_dict)\n",
    "        distances = {'SYD_LHR': 17020, 'LHR_DUB': 448, 'DUB_HEL': 2023, 'HEL_CPH': 892, 'CPH_SYD': 16042, 'DUB_CPH': 1241, 'CPH_HEL': 892, 'HEL_SYD': 15200, 'LHR_HEL': 1847, 'HEL_DUB': 2023, 'CPH_DUB': 1241, 'DUB_SYD': 17215, 'LHR_CPH': 979, 'SYD_DUB': 17215, 'DUB_LHR': 448, 'HEL_LHR': 1847, 'CPH_LHR': 979, 'LHR_SYD': 17020, 'SYD_HEL': 15200, 'SYD_CPH': 16042}\n",
    "        self.assertTrue(permutations_no(inputList, airport_objects_dict) == distances)\n",
    "\n",
    "unittest.main(argv=[''], verbosity=2, exit=False)"
   ]
  },
  {
   "cell_type": "code",
   "execution_count": null,
   "metadata": {},
   "outputs": [],
   "source": []
  }
 ],
 "metadata": {
  "kernelspec": {
   "display_name": "Python 3",
   "language": "python",
   "name": "python3"
  },
  "language_info": {
   "codemirror_mode": {
    "name": "ipython",
    "version": 3
   },
   "file_extension": ".py",
   "mimetype": "text/x-python",
   "name": "python",
   "nbconvert_exporter": "python",
   "pygments_lexer": "ipython3",
   "version": "3.6.8"
  }
 },
 "nbformat": 4,
 "nbformat_minor": 2
}

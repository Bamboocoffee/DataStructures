{
 "cells": [
  {
   "cell_type": "code",
   "execution_count": 2,
   "metadata": {},
   "outputs": [],
   "source": [
    "def permutation(lst): \n",
    "    if len(lst) == 0: \n",
    "        return [] \n",
    "  \n",
    "    if len(lst) == 1: \n",
    "        return [lst] \n",
    "  \n",
    "    l = [] \n",
    "  \n",
    "    for i in range(len(lst)): \n",
    "        m = lst[i] \n",
    "  \n",
    "        remLst = lst[:i] + lst[i+1:] \n",
    "  \n",
    "      \n",
    "        for p in permutation(remLst): \n",
    "            l.append([m] + p) \n",
    "    return l "
   ]
  },
  {
   "cell_type": "code",
   "execution_count": 3,
   "metadata": {},
   "outputs": [
    {
     "name": "stdout",
     "output_type": "stream",
     "text": [
      "[['DUB', 'LHR', 'CPH', 'HEL', 'MOW', 'DUB'], ['DUB', 'LHR', 'CPH', 'MOW', 'HEL', 'DUB'], ['DUB', 'LHR', 'HEL', 'CPH', 'MOW', 'DUB'], ['DUB', 'LHR', 'HEL', 'MOW', 'CPH', 'DUB'], ['DUB', 'LHR', 'MOW', 'CPH', 'HEL', 'DUB'], ['DUB', 'LHR', 'MOW', 'HEL', 'CPH', 'DUB'], ['DUB', 'CPH', 'LHR', 'HEL', 'MOW', 'DUB'], ['DUB', 'CPH', 'LHR', 'MOW', 'HEL', 'DUB'], ['DUB', 'CPH', 'HEL', 'LHR', 'MOW', 'DUB'], ['DUB', 'CPH', 'HEL', 'MOW', 'LHR', 'DUB'], ['DUB', 'CPH', 'MOW', 'LHR', 'HEL', 'DUB'], ['DUB', 'CPH', 'MOW', 'HEL', 'LHR', 'DUB'], ['DUB', 'HEL', 'LHR', 'CPH', 'MOW', 'DUB'], ['DUB', 'HEL', 'LHR', 'MOW', 'CPH', 'DUB'], ['DUB', 'HEL', 'CPH', 'LHR', 'MOW', 'DUB'], ['DUB', 'HEL', 'CPH', 'MOW', 'LHR', 'DUB'], ['DUB', 'HEL', 'MOW', 'LHR', 'CPH', 'DUB'], ['DUB', 'HEL', 'MOW', 'CPH', 'LHR', 'DUB'], ['DUB', 'MOW', 'LHR', 'CPH', 'HEL', 'DUB'], ['DUB', 'MOW', 'LHR', 'HEL', 'CPH', 'DUB'], ['DUB', 'MOW', 'CPH', 'LHR', 'HEL', 'DUB'], ['DUB', 'MOW', 'CPH', 'HEL', 'LHR', 'DUB'], ['DUB', 'MOW', 'HEL', 'LHR', 'CPH', 'DUB'], ['DUB', 'MOW', 'HEL', 'CPH', 'LHR', 'DUB']]\n"
     ]
    }
   ],
   "source": [
    "data = ['DUB','LHR', 'CPH', 'HEL', 'MOW']\n",
    "a = data[0]\n",
    "newlist = []\n",
    "for i in range(1,len(data)):\n",
    "    newlist.append(data[i])\n",
    "\n",
    "plist = []\n",
    "perm = permutation(newlist)\n",
    "for i in list(perm): \n",
    "    plist.append(i)\n",
    "    \n",
    "permlist = []\n",
    "for perms in plist:\n",
    "    perms = [a] + list(perms) + [a]\n",
    "    permlist.append(perms)\n",
    "print(permlist)\n",
    "\n"
   ]
  },
  {
   "cell_type": "code",
   "execution_count": null,
   "metadata": {},
   "outputs": [],
   "source": []
  }
 ],
 "metadata": {
  "kernelspec": {
   "display_name": "Python 3",
   "language": "python",
   "name": "python3"
  },
  "language_info": {
   "codemirror_mode": {
    "name": "ipython",
    "version": 3
   },
   "file_extension": ".py",
   "mimetype": "text/x-python",
   "name": "python",
   "nbconvert_exporter": "python",
   "pygments_lexer": "ipython3",
   "version": "3.7.1"
  }
 },
 "nbformat": 4,
 "nbformat_minor": 2
}

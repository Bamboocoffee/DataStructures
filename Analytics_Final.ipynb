{
 "cells": [
  {
   "cell_type": "code",
   "execution_count": 23,
   "metadata": {},
   "outputs": [],
   "source": [
    "import pandas as pd\n",
    "import csv\n",
    "from itertools import permutations \n",
    "from math import pi,sin,cos,acos,floor"
   ]
  },
  {
   "cell_type": "code",
   "execution_count": 35,
   "metadata": {},
   "outputs": [],
   "source": [
    "def optimum_route(listx): \n",
    "\n",
    "    airport_list = [] # creates a new list\n",
    "\n",
    "    with open('airport.csv', newline='', encoding=\"utf8\") as airport_file: # opens the csv file\n",
    "        reader = csv.reader(airport_file) # reads the cotents to a variable\n",
    "        next(reader, None) # returns none at the end of the file\n",
    "        for airport in reader: # iterates through the reader\n",
    "            if airport[4] in listx:\n",
    "                airport_code = airport[4] # assigns variable\n",
    "                country_name = airport[3] # assigns variable\n",
    "                longitude = airport[6] # assigns variable\n",
    "                latitude = airport[7] # assigns variable\n",
    "                templist = [airport_code, country_name, longitude, latitude]\n",
    "                airport_list.append(templist)       \n",
    "    \n",
    "    country_currency_list = [] # creates a new list\n",
    "\n",
    "    with open('countrycurrency.csv', newline='', encoding=\"utf8\") as countrycurrency_file: # opens the csv file\n",
    "        reader = csv.reader(countrycurrency_file) # reads the cotents to a variable\n",
    "        next(reader, None) # returns none at the end of the file\n",
    "        for country in reader: # iterates through the reader\n",
    "            temp_list = [] # temp list created\n",
    "            temp_list.append(country[0]) # appends value to list\n",
    "            temp_list.append(country[14]) # appends value to list\n",
    "            country_currency_list.append(temp_list) # appends temp list to the main list\n",
    "    \n",
    "    currency_list = [] # creates a new list\n",
    "\n",
    "    with open('currencyrates.csv', newline='', encoding=\"utf8\") as currencyrates_file: # opens the csv file\n",
    "        reader = csv.reader(currencyrates_file) # reads the cotents to a variable\n",
    "        next(reader, None) # returns none at the end of the file\n",
    "        for currency in reader: # iterates through the reader\n",
    "            temp_list = [] # temp list created\n",
    "            temp_list.append(currency[1]) # appends value to list\n",
    "            temp_list.append(currency[2]) # appends value to list\n",
    "            currency_list.append(temp_list) # appends temp list to the main list\n",
    "            \n",
    "    \n",
    "    final_list = []\n",
    "    for i in country_currency_list:\n",
    "        for x in currency_list:\n",
    "            if i[1] == x[0]:\n",
    "                templist = [i[0], x[1]]\n",
    "                final_list.append(templist)\n",
    "\n",
    "    x = 0\n",
    "    i = 0\n",
    "    while x < len(airport_list):\n",
    "        while i < len(final_list):\n",
    "            if airport_list[x][1] == final_list[i][0]:\n",
    "                airport_list[x].extend(final_list[i])\n",
    "                break\n",
    "            i+=1\n",
    "        x+=1\n",
    "        \n",
    "    return airport_list"
   ]
  },
  {
   "cell_type": "code",
   "execution_count": 36,
   "metadata": {},
   "outputs": [
    {
     "data": {
      "text/plain": [
       "[['CPH', 'Denmark', '55.617917', '12.655972', 'Denmark', '0.134'],\n",
       " ['HEL', 'Finland', '60.317222', '24.963333', 'Finland', '1'],\n",
       " ['DUB', 'Ireland', '53.421333', '-6.270075', 'Ireland', '1'],\n",
       " ['MOW', 'Russia', '55.7557', '37.6176', 'Russia', '0.01524'],\n",
       " ['LHR', 'United Kingdom', '51.4775', '-0.461389', 'United Kingdom', '1.4029']]"
      ]
     },
     "execution_count": 36,
     "metadata": {},
     "output_type": "execute_result"
    }
   ],
   "source": [
    "# iteration form input\n",
    "input_list = ['DUB', 'LHR', 'CPH', 'HEL', 'MOW']\n",
    "optimum_route(input_list)"
   ]
  },
  {
   "cell_type": "markdown",
   "metadata": {},
   "source": [
    "## Distance"
   ]
  },
  {
   "cell_type": "markdown",
   "metadata": {},
   "source": [
    "### Calculating the permutations"
   ]
  },
  {
   "cell_type": "code",
   "execution_count": null,
   "metadata": {},
   "outputs": [],
   "source": [
    "def permutations_no(listx):\n",
    "    w = listx[1]\n",
    "    x = listx[2]\n",
    "    y = listx[3]\n",
    "    z = listx[4]\n",
    "    a = listx[0]\n",
    "    count = 0\n",
    "    permlist = []\n",
    "    perm = permutations([w,x,y,z]) \n",
    "    for i in list(perm): \n",
    "        permlist.append(i)\n",
    "\n",
    "    airport_distances = {}\n",
    "    for perms in permlist:\n",
    "        perms = [a] + list(perms) + [a]\n",
    "\n",
    "        for i in range(0, len(perms)-1):\n",
    "            for j in range(0, len(airport_list)):\n",
    "                if airport_list[j][0] == perms[i]:\n",
    "                    airport1 = airport_list[j]\n",
    "                if airport_list[j][0] == perms[i+1]:\n",
    "                    airport2 = airport_list[j]\n",
    "            \n",
    "                   \n",
    "                    airport_distances['_'.join([(airport1[0]),(airport2[0])])]  = distanceBetweenAirports(float(airport1[2]), float(airport1[3]), float(airport2[2]), float(airport2[3]))\n",
    "                    break\n",
    "               \n",
    "\n",
    "    return airport_distances\n",
    "    "
   ]
  },
  {
   "cell_type": "markdown",
   "metadata": {},
   "source": [
    "### Calculating the distance"
   ]
  },
  {
   "cell_type": "code",
   "execution_count": null,
   "metadata": {},
   "outputs": [],
   "source": [
    "def distanceBetweenAirports(latitude1,longitude1,latitude2,longitude2):\n",
    "    radius_earth = 6371  # km\n",
    "    theta1 = longitude1 * (2 * pi) / 360\n",
    "    theta2 = longitude2 * (2 * pi) / 360\n",
    "    phi1 = (90 - latitude1) * (2 * pi) / 360\n",
    "    phi2 = (90 - latitude2) * (2 * pi) / 360\n",
    "    distance = acos( sin(phi1) * sin(phi2) * cos(abs(theta1 - theta2)) +  cos(phi1) * cos(phi2) ) * radius_earth\n",
    "    return floor(distance)"
   ]
  },
  {
   "cell_type": "markdown",
   "metadata": {},
   "source": [
    "## Costing"
   ]
  },
  {
   "cell_type": "markdown",
   "metadata": {},
   "source": [
    "## Analysis"
   ]
  },
  {
   "cell_type": "code",
   "execution_count": null,
   "metadata": {},
   "outputs": [],
   "source": []
  }
 ],
 "metadata": {
  "kernelspec": {
   "display_name": "Python 3",
   "language": "python",
   "name": "python3"
  },
  "language_info": {
   "codemirror_mode": {
    "name": "ipython",
    "version": 3
   },
   "file_extension": ".py",
   "mimetype": "text/x-python",
   "name": "python",
   "nbconvert_exporter": "python",
   "pygments_lexer": "ipython3",
   "version": "3.7.1"
  }
 },
 "nbformat": 4,
 "nbformat_minor": 2
}

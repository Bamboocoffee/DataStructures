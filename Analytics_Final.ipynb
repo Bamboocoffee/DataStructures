{
 "cells": [
  {
   "cell_type": "code",
   "execution_count": 1,
   "metadata": {},
   "outputs": [],
   "source": [
    "import pandas as pd\n",
    "import csv\n",
    "from itertools import permutations \n",
    "from math import pi,sin,cos,acos,floor"
   ]
  },
  {
   "cell_type": "code",
   "execution_count": 2,
   "metadata": {},
   "outputs": [],
   "source": [
    "airport_list = [] # creates a new list\n",
    "\n",
    "with open('airport.csv', newline='', encoding=\"utf8\") as airport_file: # opens the csv file\n",
    "    reader = csv.reader(airport_file) # reads the cotents to a variable\n",
    "    next(reader, None) # returns none at the end of the file\n",
    "    for airport in reader: # iterates through the reader\n",
    "        airport_code = airport[4] # assigns variable\n",
    "        country_name = airport[3] # assigns variable\n",
    "        longitude = airport[6] # assigns variable\n",
    "        latitude = airport[7] # assigns variable\n",
    "        templist = [airport_code, country_name, longitude, latitude]\n",
    "        airport_list.append(templist)"
   ]
  },
  {
   "cell_type": "code",
   "execution_count": 3,
   "metadata": {},
   "outputs": [],
   "source": [
    "country_currency_list = [] # creates a new list\n",
    "\n",
    "with open('countrycurrency.csv', newline='', encoding=\"utf8\") as countrycurrency_file: # opens the csv file\n",
    "    reader = csv.reader(countrycurrency_file) # reads the cotents to a variable\n",
    "    next(reader, None) # returns none at the end of the file\n",
    "    for country in reader: # iterates through the reader\n",
    "        temp_list = [] # temp list created\n",
    "        temp_list.append(country[0]) # appends value to list\n",
    "        temp_list.append(country[14]) # appends value to list\n",
    "        country_currency_list.append(temp_list) # appends temp list to the main list   "
   ]
  },
  {
   "cell_type": "code",
   "execution_count": 4,
   "metadata": {},
   "outputs": [],
   "source": [
    "currency_list = [] # creates a new list\n",
    "\n",
    "with open('currencyrates.csv', newline='', encoding=\"utf8\") as currencyrates_file: # opens the csv file\n",
    "    reader = csv.reader(currencyrates_file) # reads the cotents to a variable\n",
    "    next(reader, None) # returns none at the end of the file\n",
    "    for currency in reader: # iterates through the reader\n",
    "        temp_list = [] # temp list created\n",
    "        temp_list.append(currency[1]) # appends value to list\n",
    "        temp_list.append(currency[2]) # appends value to list\n",
    "        currency_list.append(temp_list) # appends temp list to the main list\n"
   ]
  },
  {
   "cell_type": "code",
   "execution_count": null,
   "metadata": {},
   "outputs": [],
   "source": [
    "airport_list\n",
    "\n",
    "final_list = []\n",
    "final_list2 = []\n",
    "for i in country_currency_list:\n",
    "    for x in currency_list:\n",
    "        if i[1] == x[0]:\n",
    "            templist = [i[0], x[1]]\n",
    "            final_list.append(templist)\n",
    "\n",
    "final_list\n",
    "airport_list\n",
    "\n",
    "x = 0\n",
    "i = 0\n",
    "while x < len(airport_list):\n",
    "    while i < len(final_list):\n",
    "        if airport_list[x][1] == final_list[i][0]:\n",
    "            airport_list[x].extend(final_list[i])\n",
    "            break\n",
    "    i+=1\n",
    "    x+=1"
   ]
  },
  {
   "cell_type": "code",
   "execution_count": null,
   "metadata": {},
   "outputs": [],
   "source": []
  },
  {
   "cell_type": "code",
   "execution_count": null,
   "metadata": {},
   "outputs": [],
   "source": [
    "country_rates_dict = {} # creates a dict\n",
    "\n",
    "for i in country_currency_list: # iterates through the list\n",
    "    for j in currency_list: # iterates through another list\n",
    "        if i[1] == j[0]: \n",
    "            country_rates_dict[i[0]] = j[1] # adds to the dictionary if condition met\n",
    "\n",
    "for key, values in country_rates_dict.items():\n",
    "    print(key)\n",
    "    print(values)"
   ]
  },
  {
   "cell_type": "code",
   "execution_count": null,
   "metadata": {},
   "outputs": [],
   "source": [
    "for i in airport_list: # iterates over a list\n",
    "    for key, value in country_rates_dict.items(): # iterates through the dict\n",
    "        if (i.country_name) == key: \n",
    "            i.currency = value # sets the currency of each object\n"
   ]
  },
  {
   "cell_type": "markdown",
   "metadata": {},
   "source": [
    "## Distance"
   ]
  },
  {
   "cell_type": "markdown",
   "metadata": {},
   "source": [
    "### Calculating the permutations"
   ]
  },
  {
   "cell_type": "code",
   "execution_count": null,
   "metadata": {},
   "outputs": [],
   "source": [
    "def permutations_no(listx):\n",
    "    w = listx[1]\n",
    "    x = listx[2]\n",
    "    y = listx[3]\n",
    "    z = listx[4]\n",
    "    a = listx[0]\n",
    "    count = 0\n",
    "    permlist = []\n",
    "    perm = permutations([w,x,y,z]) \n",
    "    for i in list(perm): \n",
    "        permlist.append(i)\n",
    "\n",
    "        \n",
    "    airport_distances = {}\n",
    "    for perms in permlist:\n",
    "        perms = [a] + list(perms) + [a]\n",
    "    \n",
    "    \n",
    "        for i in range(0, len(perms)-1):  \n",
    "            for i in airport_list:\n",
    "                if i.airport_code == perms[i]:\n",
    "                    \n",
    "                    airport_code_1 = i.airport_code\n",
    "                    airport_longitude_1 = i.longitude\n",
    "                    airport_latitude_1 = i.latitude\n",
    "\n",
    "                if i.airport_code == perm[i+1]:\n",
    "                    airport_code_2 = i.airport_code\n",
    "                    airport_longitude_2 = i.longitude\n",
    "                    airport_latitude_2 = i.latitude\n",
    "\n",
    "\n",
    "                airport_distances['_'.join([str(airport_code_1),str(airport_code_2)])] = distanceBetweenAirports(float(airport_latitude_1), float(airport_longitude_1), float(airport_latitude_2), float(airport_longitude_2))\n",
    "\n",
    "    return airport_distances"
   ]
  },
  {
   "cell_type": "code",
   "execution_count": null,
   "metadata": {},
   "outputs": [],
   "source": [
    "# iteration form input\n",
    "\n",
    "airports = ['DUB','LHR','HEA','HEL','CPH']\n",
    "print(airports)\n",
    "permlist = permutations_no(airports)\n"
   ]
  },
  {
   "cell_type": "markdown",
   "metadata": {},
   "source": [
    "### Calculating the distance"
   ]
  },
  {
   "cell_type": "code",
   "execution_count": null,
   "metadata": {},
   "outputs": [],
   "source": [
    "def distanceBetweenAirports(latitude1,longitude1,latitude2,longitude2):\n",
    "    radius_earth = 6371  # km\n",
    "    theta1 = longitude1 * (2 * pi) / 360\n",
    "    theta2 = longitude2 * (2 * pi) / 360\n",
    "    phi1 = (90 - latitude1) * (2 * pi) / 360\n",
    "    phi2 = (90 - latitude2) * (2 * pi) / 360\n",
    "    distance = acos( sin(phi1) * sin(phi2) * cos(abs(theta1 - theta2)) +  cos(phi1) * cos(phi2) ) * radius_earth\n",
    "    return floor(distance)"
   ]
  },
  {
   "cell_type": "markdown",
   "metadata": {},
   "source": [
    "## Costing"
   ]
  },
  {
   "cell_type": "markdown",
   "metadata": {},
   "source": [
    "## Analysis"
   ]
  },
  {
   "cell_type": "code",
   "execution_count": null,
   "metadata": {},
   "outputs": [],
   "source": []
  }
 ],
 "metadata": {
  "kernelspec": {
   "display_name": "Python 3",
   "language": "python",
   "name": "python3"
  },
  "language_info": {
   "codemirror_mode": {
    "name": "ipython",
    "version": 3
   },
   "file_extension": ".py",
   "mimetype": "text/x-python",
   "name": "python",
   "nbconvert_exporter": "python",
   "pygments_lexer": "ipython3",
   "version": "3.7.1"
  }
 },
 "nbformat": 4,
 "nbformat_minor": 2
}

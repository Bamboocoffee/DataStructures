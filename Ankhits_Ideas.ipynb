{
 "cells": [
  {
   "cell_type": "code",
   "execution_count": 264,
   "metadata": {},
   "outputs": [],
   "source": [
    "import pandas as pd\n",
    "import csv\n",
    "from itertools import permutations \n",
    "from math import pi,sin,cos,acos,floor"
   ]
  },
  {
   "cell_type": "code",
   "execution_count": 265,
   "metadata": {},
   "outputs": [],
   "source": [
    "class Aircraft: # Class that contains all aircraft\n",
    "    \n",
    "    def __init__(self, model, manufacturer, max_capacity, current_capacity = 0):\n",
    "        self._model = model # model of the aircraft\n",
    "        self.manufacturer = manufacturer # manufacturer of the aircraft\n",
    "        self._max_capacity = max_capacity # max capacity of the aircraft\n",
    "        self._current_capacity = current_capacity # current capacity of the aircraft\n",
    "    \n",
    "    def get_max_capacity(self):\n",
    "        return self._max_capacity # returns the max distance\n",
    "    \n",
    "    def get_maunfacturer(self):\n",
    "        return self._manufacturer # returns the manufacturer\n",
    "    \n",
    "    def get_model(self):\n",
    "        return self._model # returns the model\n",
    "\n",
    "    def current_capacity(self):\n",
    "        return self._current_capacity # returns the current capacity left in the plane\n",
    "    \n",
    "    def current_capacity(self, amount):\n",
    "        if self._max_capacity == self._current_capacity: # This is just a checker.\n",
    "            return \"Sorry, the plane has a full tank\"\n",
    "        elif self._current_capacity + amount > self._max_capacity:\n",
    "            return \"Sorry, you have filled up by too much\"\n",
    "        else:\n",
    "            self._current_capacity = amount # sets the capacity of the plane\n",
    "\n",
    "class Airport:\n",
    "    \n",
    "    def __init__(self, airport_code, longitude, latitude, exchangeRate):\n",
    "        self.airport_code = airport_code # airport code of the airport\n",
    "        self._longitude = longitude # longitude of the airport\n",
    "        self._latitude = latitude # latitude of the airport\n",
    "        self._exchange_rate = exchangeRate # currency used by the airport\n",
    "        \n",
    "    def get_longitude(self):\n",
    "        return self._longitude # returns the longitude of the airport\n",
    "    \n",
    "    def get_latitude(self):\n",
    "        return self._latitude # returns the latitude of the airport\n",
    "    \n",
    "    def get_exchange_rate(self):\n",
    "        return self._exchange_rate # returns the currency used by the airport\n",
    "    \n",
    "    def set_exchange_rate(self, exchangeRate):\n",
    "        self._exchange_rate = exchangeRate # sets the currency of the airport\n",
    "        "
   ]
  },
  {
   "cell_type": "code",
   "execution_count": 241,
   "metadata": {},
   "outputs": [],
   "source": [
    "#Optimum route will take in the list of destinations and the plane model and create a list of dictionary\n",
    "#of airport objects. Each object contains airport codes, latitude, longitude, and the exchange rate to Euro.\n",
    "#The key for the dictionary of Airport objects is the airport code, and of course the value is the object\n",
    "\n",
    "#time complexity: 2n^2 + 4n ----> o(n^2)\n",
    "def optimum_route(listx): \n",
    "\n",
    "    airport_list = [] # creates a new list\n",
    "\n",
    "    with open('airport.csv', newline='', encoding=\"utf8\") as airport_file: # opens the csv file\n",
    "        reader = csv.reader(airport_file) # reads the cotents to a variable\n",
    "        next(reader, None) # returns none at the end of the file\n",
    "        for airport in reader: # iterates through the reader\n",
    "            if airport[4] in listx:\n",
    "                airport_code = airport[4] # assigns variable\n",
    "                country_name = airport[3] # assigns variable\n",
    "                longitude = airport[6] # assigns variable\n",
    "                latitude = airport[7] # assigns variable\n",
    "                templist = [airport_code, country_name, longitude, latitude]\n",
    "                airport_list.append(templist)       \n",
    "    \n",
    "    country_currency_list = [] # creates a new list\n",
    "\n",
    "    with open('countrycurrency.csv', newline='', encoding=\"utf8\") as countrycurrency_file: # opens the csv file\n",
    "        reader = csv.reader(countrycurrency_file) # reads the cotents to a variable\n",
    "        next(reader, None) # returns none at the end of the file\n",
    "        for country in reader: # iterates through the reader\n",
    "            temp_list = [] # temp list created\n",
    "            temp_list.append(country[0]) # appends value to list\n",
    "            temp_list.append(country[14]) # appends value to list\n",
    "            country_currency_list.append(temp_list) # appends temp list to the main list\n",
    "    \n",
    "    currency_list = [] # creates a new list\n",
    "\n",
    "    with open('currencyrates.csv', newline='', encoding=\"utf8\") as currencyrates_file: # opens the csv file\n",
    "        reader = csv.reader(currencyrates_file) # reads the cotents to a variable\n",
    "        next(reader, None) # returns none at the end of the file\n",
    "        for currency in reader: # iterates through the reader\n",
    "            temp_list = [] # temp list created\n",
    "            temp_list.append(currency[1]) # appends value to list\n",
    "            temp_list.append(currency[2]) # appends value to list\n",
    "            currency_list.append(temp_list) # appends temp list to the main list\n",
    "            \n",
    "    \n",
    "    final_list = []\n",
    "    for i in country_currency_list:\n",
    "        for x in currency_list:\n",
    "            if i[1] == x[0]:\n",
    "                templist = [i[0], x[1]]\n",
    "                final_list.append(templist)\n",
    "\n",
    "    x = 0\n",
    "    i = 0\n",
    "    while x < len(airport_list):\n",
    "        while i < len(final_list):\n",
    "            if airport_list[x][1] == final_list[i][0]:\n",
    "                airport_list[x].extend(final_list[i])\n",
    "                break\n",
    "            i+=1\n",
    "        x+=1\n",
    "    #Make a dictionary with the Airport code as the key and the value being the airport object of that key\n",
    "    finalAirports = {}\n",
    "    for i in airport_list:\n",
    "        finalAirports[i[0]] = Airport(i[0], i[2], i[3], i[5])\n",
    "    return finalAirports\n",
    "        \n",
    "        "
   ]
  },
  {
   "cell_type": "markdown",
   "metadata": {},
   "source": [
    "## Building all the airplanes"
   ]
  },
  {
   "cell_type": "code",
   "execution_count": 267,
   "metadata": {},
   "outputs": [],
   "source": [
    "#buildPlanes will look the aircraft csv and build a dictionary of planes, with airplane model as the \n",
    "#key and the values being the model, manufacturer, and range (converted to metric)\n",
    "\n",
    "#time complexity: o(n)\n",
    "def buildPlanes():\n",
    "    aircraftDict = {}\n",
    "    with open('aircraft.csv', newline='', encoding=\"utf8\") as airplane_file: # opens the csv file\n",
    "        reader = csv.reader(airplane_file) # reads the cotents to a variable\n",
    "        next(reader, None) # returns none at the end of the file\n",
    "        for airplane in reader: # iterates through the reader\n",
    "            if airplane[2] == \"imperial\":\n",
    "                airRange = int(airplane[4]) * 1.609\n",
    "            else:\n",
    "                airRange = airplane[4]\n",
    "            aircraftDict[airplane[0]] = Aircraft(airplane[0], airplane[3], airRange)\n",
    "    return aircraftDict\n",
    "    \n",
    "    "
   ]
  },
  {
   "cell_type": "code",
   "execution_count": 254,
   "metadata": {},
   "outputs": [],
   "source": [
    "#This is a work in progress, my idea was that if a leg can't be flown, you remove it from the dictionary \n",
    "#of legs and distances. However, this will mean that the route calculator must also have those legs removed,\n",
    "#So it will be complicated. Should try and figure out how to solve this\n",
    "\n",
    "#Time complexity: o(n)\n",
    "def checkPlaneAllowed(dictAirplane, routeDict, input_list):\n",
    "    planeToFly = input_list[5]\n",
    "    planeRange = dictAirplane[planeToFly].get_max_capacity()\n",
    "    routeDict_copy = routeDict.copy()\n",
    "    for j in routeDict_copy:\n",
    "        if routeDict_copy[j] > planeRange:\n",
    "            routeDict.pop(j)\n",
    "    \n",
    "    "
   ]
  },
  {
   "cell_type": "markdown",
   "metadata": {},
   "source": [
    "## Distance"
   ]
  },
  {
   "cell_type": "markdown",
   "metadata": {},
   "source": [
    "### Calculating the permutations"
   ]
  },
  {
   "cell_type": "code",
   "execution_count": 255,
   "metadata": {},
   "outputs": [],
   "source": [
    "#Takes in the input list of airports and plane, also the dictionary of airport objects. Creates\n",
    "#a permutation list from the input list of airports, then matches the airport name to its object.\n",
    "#Uses matching and a bit more work to create each possible leg to be traveled from the permutations,\n",
    "#and calculates the distance for each leg. \n",
    "\n",
    "#Time complexity: n^4\n",
    "def permutations_no(listx, airport_list):\n",
    "    w = listx[1]\n",
    "    x = listx[2]\n",
    "    y = listx[3]\n",
    "    z = listx[4]\n",
    "    a = listx[0]\n",
    "    count = 0\n",
    "    permlist = []\n",
    "    perm = permutations([w,x,y,z]) \n",
    "    for i in list(perm): \n",
    "        permlist.append(i)\n",
    "\n",
    "    airport_distances = {}\n",
    "    \n",
    "    for perms in permlist:\n",
    "        perms = [a] + list(perms) + [a]\n",
    "        for i in range(0, len(perms) - 1):\n",
    "            for j in airport_list:\n",
    "                if j == perms[i]:\n",
    "                    airport1 = airport_list[perms[i]]\n",
    "                    for k in airport_list:\n",
    "                        if k == perms[i+1]:\n",
    "                            airport2 = airport_list[perms[i+1]]\n",
    "                    distance = distanceBetweenAirports(float(airport1.get_longitude()), float(airport1.get_latitude()), float(airport2.get_longitude()), float(airport2.get_latitude()))\n",
    "                    if distance != 0:\n",
    "                        airport_distances['_'.join([(airport1.airport_code),(airport2.airport_code)])]  = distance\n",
    "\n",
    "                \n",
    "    return airport_distances"
   ]
  },
  {
   "cell_type": "code",
   "execution_count": 256,
   "metadata": {},
   "outputs": [],
   "source": [
    "#This will create permutations of all possible routes using the input list of airports and plane\n",
    "\n",
    "#time complexity: o(n)\n",
    "\n",
    "def allPerms(listx):\n",
    "    w = listx[1]\n",
    "    x = listx[2]\n",
    "    y = listx[3]\n",
    "    z = listx[4]\n",
    "    a = listx[0]\n",
    "    count = 0\n",
    "    permlist = []\n",
    "    newpermlist = []\n",
    "    perm = permutations([w,x,y,z]) \n",
    "    for i in list(perm): \n",
    "        permlist.append(i)\n",
    "\n",
    "    for perms in permlist:\n",
    "        perms = [a] + list(perms) + [a]\n",
    "        newpermlist.append(perms)\n",
    "\n",
    "    return newpermlist"
   ]
  },
  {
   "cell_type": "markdown",
   "metadata": {},
   "source": [
    "### Calculating the distance"
   ]
  },
  {
   "cell_type": "code",
   "execution_count": 257,
   "metadata": {},
   "outputs": [],
   "source": [
    "def distanceBetweenAirports(latitude1,longitude1,latitude2,longitude2):\n",
    "    radius_earth = 6371  # km\n",
    "    theta1 = longitude1 * (2 * pi) / 360\n",
    "    theta2 = longitude2 * (2 * pi) / 360\n",
    "    phi1 = (90 - latitude1) * (2 * pi) / 360\n",
    "    phi2 = (90 - latitude2) * (2 * pi) / 360\n",
    "    distance = acos( sin(phi1) * sin(phi2) * cos(abs(theta1 - theta2)) +  cos(phi1) * cos(phi2) ) * radius_earth\n",
    "    return floor(distance)"
   ]
  },
  {
   "cell_type": "markdown",
   "metadata": {},
   "source": [
    "## Analysis"
   ]
  },
  {
   "cell_type": "code",
   "execution_count": 273,
   "metadata": {},
   "outputs": [],
   "source": [
    "#from pprint import pprint\n",
    "inputList = ['DUB', 'LHR', 'CPH', 'HEL', 'MOW', 'SAH']\n",
    "airport_objects_dict = optimum_route(input_list)\n",
    "#for i in airports.values():\n",
    "#    pprint(vars(i))\n",
    "#airports['CPH']\n",
    "all_routes_list = allPerms(input_list)\n",
    "dict_routes_distances = permutations_no(input_list, airports)\n",
    "dictOfAirplanes = buildPlanes()\n",
    "\n",
    "\n",
    "\n",
    "\n"
   ]
  },
  {
   "cell_type": "markdown",
   "metadata": {},
   "source": [
    "## Costing"
   ]
  },
  {
   "cell_type": "code",
   "execution_count": 274,
   "metadata": {},
   "outputs": [],
   "source": [
    "#Goes through the dict of airport objects and the dictionary of legs (keys) and their distances(values).\n",
    "#Converts costs into distance based on home airport (first 3 characters of leg), then multiplies by that \n",
    "#airports currency conversion to euros, and build a new dictionary with leg as the key and cost as value.\n",
    "\n",
    "#time complexity: o(n^2)\n",
    "def findCosts(leg_distance_dict, airport_object_dict):\n",
    "    costDict = {}\n",
    "    myKey = \"\"\n",
    "    for i in leg_distance_dict:\n",
    "        myKey = i[:3]\n",
    "        x = 0\n",
    "        cost = 0\n",
    "        for j in airport_object_dict:\n",
    "            if myKey == j:\n",
    "                cost = round(float(airport_object_dict[j]._exchange_rate) * float(leg_distance_dict[i]), 2)\n",
    "                costDict[i] = cost\n",
    "            x+=1\n",
    "    return costDict    \n",
    "        "
   ]
  },
  {
   "cell_type": "code",
   "execution_count": 275,
   "metadata": {},
   "outputs": [],
   "source": [
    "costs = findCosts(dict_routes_distances, airport_objects_dict)"
   ]
  },
  {
   "cell_type": "markdown",
   "metadata": {},
   "source": [
    "## Costs and legs shenanigans"
   ]
  },
  {
   "cell_type": "code",
   "execution_count": 276,
   "metadata": {},
   "outputs": [],
   "source": [
    "#This function will go through the lists of routes and the dictionary of costs for each leg of the route,\n",
    "#Match the leg within each route and add up the costs for the route. A final dictionary will be created \n",
    "#with the key being the tuple containing the route, and the value the integer cost for the route. \n",
    "\n",
    "#time_complexity: o(n^2)\n",
    "def findRouteCost(myList, costDict):\n",
    "    routeCostDict = {}\n",
    "    cost = 0\n",
    "    x = 0\n",
    "    \n",
    "    while x < len(myList):\n",
    "        i = 0\n",
    "        cost = 0\n",
    "        while i < (len(myList[x]) - 1):\n",
    "            myKey = str(myList[x][i]) + \"_\" + str(myList[x][i+1])\n",
    "            cost += costDict[myKey]\n",
    "            cost = round(cost,2)\n",
    "            i+=1\n",
    "        routeCostDict[tuple(myList[x])] = cost\n",
    "        x+=1\n",
    "    return routeCostDict"
   ]
  },
  {
   "cell_type": "code",
   "execution_count": 278,
   "metadata": {},
   "outputs": [
    {
     "data": {
      "text/plain": [
       "{('DUB', 'LHR', 'CPH', 'HEL', 'MOW', 'DUB'): 2881.5,\n",
       " ('DUB', 'LHR', 'CPH', 'MOW', 'HEL', 'DUB'): 4066.63,\n",
       " ('DUB', 'LHR', 'HEL', 'CPH', 'MOW', 'DUB'): 4182.19,\n",
       " ('DUB', 'LHR', 'HEL', 'MOW', 'CPH', 'DUB'): 4127.16,\n",
       " ('DUB', 'LHR', 'MOW', 'CPH', 'HEL', 'DUB'): 6152.35,\n",
       " ('DUB', 'LHR', 'MOW', 'HEL', 'CPH', 'DUB'): 5058.09,\n",
       " ('DUB', 'CPH', 'LHR', 'HEL', 'MOW', 'DUB'): 4903.88,\n",
       " ('DUB', 'CPH', 'LHR', 'MOW', 'HEL', 'DUB'): 6946.99,\n",
       " ('DUB', 'CPH', 'HEL', 'LHR', 'MOW', 'DUB'): 6788.17,\n",
       " ('DUB', 'CPH', 'HEL', 'MOW', 'LHR', 'DUB'): 2925.47,\n",
       " ('DUB', 'CPH', 'MOW', 'LHR', 'HEL', 'DUB'): 6102.1,\n",
       " ('DUB', 'CPH', 'MOW', 'HEL', 'LHR', 'DUB'): 3938.69,\n",
       " ('DUB', 'HEL', 'LHR', 'CPH', 'MOW', 'DUB'): 5494.47,\n",
       " ('DUB', 'HEL', 'LHR', 'MOW', 'CPH', 'DUB'): 7598.11,\n",
       " ('DUB', 'HEL', 'CPH', 'LHR', 'MOW', 'DUB'): 6626.83,\n",
       " ('DUB', 'HEL', 'CPH', 'MOW', 'LHR', 'DUB'): 3790.44,\n",
       " ('DUB', 'HEL', 'MOW', 'LHR', 'CPH', 'DUB'): 4499.17,\n",
       " ('DUB', 'HEL', 'MOW', 'CPH', 'LHR', 'DUB'): 3704.4,\n",
       " ('DUB', 'MOW', 'LHR', 'CPH', 'HEL', 'DUB'): 6345.41,\n",
       " ('DUB', 'MOW', 'LHR', 'HEL', 'CPH', 'DUB'): 6478.89,\n",
       " ('DUB', 'MOW', 'CPH', 'LHR', 'HEL', 'DUB'): 7560.06,\n",
       " ('DUB', 'MOW', 'CPH', 'HEL', 'LHR', 'DUB'): 5409.74,\n",
       " ('DUB', 'MOW', 'HEL', 'LHR', 'CPH', 'DUB'): 6191.42,\n",
       " ('DUB', 'MOW', 'HEL', 'CPH', 'LHR', 'DUB'): 4456.38}"
      ]
     },
     "execution_count": 278,
     "metadata": {},
     "output_type": "execute_result"
    }
   ],
   "source": [
    "findRouteCost(all_routes_list, costs)"
   ]
  },
  {
   "cell_type": "code",
   "execution_count": null,
   "metadata": {},
   "outputs": [],
   "source": []
  },
  {
   "cell_type": "code",
   "execution_count": null,
   "metadata": {},
   "outputs": [],
   "source": []
  }
 ],
 "metadata": {
  "kernelspec": {
   "display_name": "Python 3",
   "language": "python",
   "name": "python3"
  },
  "language_info": {
   "codemirror_mode": {
    "name": "ipython",
    "version": 3
   },
   "file_extension": ".py",
   "mimetype": "text/x-python",
   "name": "python",
   "nbconvert_exporter": "python",
   "pygments_lexer": "ipython3",
   "version": "3.7.1"
  }
 },
 "nbformat": 4,
 "nbformat_minor": 2
}

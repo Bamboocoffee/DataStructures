{
 "cells": [
  {
   "cell_type": "markdown",
   "metadata": {},
   "source": [
    "# Airtravel Optimization Program"
   ]
  },
  {
   "cell_type": "code",
   "execution_count": 1,
   "metadata": {},
   "outputs": [],
   "source": [
    "import os\n",
    "import pandas as pd\n",
    "import csv\n",
    "from itertools import permutations \n",
    "from math import pi,sin,cos,acos,floor"
   ]
  },
  {
   "cell_type": "markdown",
   "metadata": {},
   "source": [
    "## Preparing"
   ]
  },
  {
   "cell_type": "code",
   "execution_count": 2,
   "metadata": {},
   "outputs": [],
   "source": [
    "def read_file(file_name):\n",
    "    \"\"\"Read data in the file and Create Matrix\"\"\"\n",
    "    datamatrix = []\n",
    "    datafile = open(file_name)\n",
    "    for line in datafile:\n",
    "        datamatrix.append(line.split(\",\"))\n",
    "    datafile.close()\n",
    "    return datamatrix"
   ]
  },
  {
   "cell_type": "code",
   "execution_count": 3,
   "metadata": {},
   "outputs": [],
   "source": [
    "class Aircraft: # Class that contains all aircraft\n",
    "    \n",
    "    def __init__(self, model, manufacturer, max_capacity, current_capacity = 0):\n",
    "        self._model = model # model of the aircraft\n",
    "        self.manufacturer = manufacturer # manufacturer of the aircraft\n",
    "        self._max_capacity = max_capacity # max capacity of the aircraft\n",
    "        self._current_capacity = current_capacity # current capacity of the aircraft\n",
    "    \n",
    "    def get_max_capacity(self):\n",
    "        return self._max_capacity # returns the max distance\n",
    "    \n",
    "    def get_maunfacturer(self):\n",
    "        return self._manufacturer # returns the manufacturer\n",
    "    \n",
    "    def get_model(self):\n",
    "        return self._model # returns the model\n",
    "\n",
    "    def current_capacity(self):\n",
    "        return self._current_capacity # returns the current capacity left in the plane\n",
    "    \n",
    "    def current_capacity(self, amount):\n",
    "        if self._max_capacity == self._current_capacity: # This is just a checker.\n",
    "            return \"Sorry, the plane has a full tank\"\n",
    "        elif self._current_capacity + amount > self._max_capacity:\n",
    "            return \"Sorry, you have filled up by too much\"\n",
    "        else:\n",
    "            self._current_capacity = amount # sets the capacity of the plane\n",
    "\n",
    "class Airport:\n",
    "    \n",
    "    def __init__(self, airport_code, longitude, latitude, exchangeRate):\n",
    "        self.airport_code = airport_code # airport code of the airport\n",
    "        self._longitude = longitude # longitude of the airport\n",
    "        self._latitude = latitude # latitude of the airport\n",
    "        self._exchange_rate = exchangeRate # currency used by the airport\n",
    "        \n",
    "    def get_longitude(self):\n",
    "        return self._longitude # returns the longitude of the airport\n",
    "    \n",
    "    def get_latitude(self):\n",
    "        return self._latitude # returns the latitude of the airport\n",
    "    \n",
    "    def get_exchange_rate(self):\n",
    "        return self._exchange_rate # returns the currency used by the airport\n",
    "    \n",
    "    def set_exchange_rate(self, exchangeRate):\n",
    "        self._exchange_rate = exchangeRate # sets the currency of the airport\n",
    "        "
   ]
  },
  {
   "cell_type": "markdown",
   "metadata": {},
   "source": [
    "## Building the Aircraft\n",
    "\n",
    "Time complexity: O(n)"
   ]
  },
  {
   "cell_type": "code",
   "execution_count": 4,
   "metadata": {},
   "outputs": [],
   "source": [
    "def buildAircraft():\n",
    "    \"\"\"Builds objects for each of the aircraft - with attributes model, manufacturer, and range.\n",
    "    Returns a dictionary of this\"\"\"\n",
    "    aircraftDict = {}\n",
    "    with open('aircraft.csv', newline='', encoding=\"utf8\") as airplane_file: # opens the csv file\n",
    "        reader = csv.reader(airplane_file) # reads the cotents to a variable\n",
    "        next(reader, None) # returns none at the end of the file\n",
    "        for airplane in reader: # iterates through the reader\n",
    "            if airplane[2] == \"imperial\":\n",
    "                airRange = int(airplane[4]) * 1.609\n",
    "            else:\n",
    "                airRange = airplane[4]\n",
    "            aircraftDict[airplane[0]] = Aircraft(airplane[0], airplane[3], airRange)\n",
    "    return aircraftDict\n",
    "    \n",
    "    "
   ]
  },
  {
   "cell_type": "markdown",
   "metadata": {},
   "source": [
    "## Building Airport Objects\n",
    "\n",
    "Time complexity: 2n^2 + 4n ----> O(n^2)"
   ]
  },
  {
   "cell_type": "code",
   "execution_count": 5,
   "metadata": {},
   "outputs": [],
   "source": [
    "def optimumRoute(listx):\n",
    "    \"\"\"Takes in a list of the route to be analysed. The airports are searched for in the csv.\n",
    "    Objects of that airport are then created - with attributes latitude, longitude, and the exchange rate to Euro.\n",
    "    It returns a dictionary with airport_code as key and object as value\"\"\" \n",
    "\n",
    "    airport_list = [] # creates a new list\n",
    "\n",
    "    with open('airport.csv', newline='', encoding=\"utf8\") as airport_file: # opens the csv file\n",
    "        reader = csv.reader(airport_file) # reads the cotents to a variable\n",
    "        next(reader, None) # returns none at the end of the file\n",
    "        for airport in reader: # iterates through the reader\n",
    "            if airport[4] in listx:\n",
    "                airport_code = airport[4] # assigns variable\n",
    "                country_name = airport[3] # assigns variable\n",
    "                longitude = airport[6] # assigns variable\n",
    "                latitude = airport[7] # assigns variable\n",
    "                templist = [airport_code, country_name, longitude, latitude]\n",
    "                airport_list.append(templist)       \n",
    "    \n",
    "    country_currency_list = [] # creates a new list\n",
    "\n",
    "    with open('countrycurrency.csv', newline='', encoding=\"utf8\") as countrycurrency_file: # opens the csv file\n",
    "        reader = csv.reader(countrycurrency_file) # reads the cotents to a variable\n",
    "        next(reader, None) # returns none at the end of the file\n",
    "        for country in reader: # iterates through the reader\n",
    "            temp_list = [] # temp list created\n",
    "            temp_list.append(country[0]) # appends value to list\n",
    "            temp_list.append(country[14]) # appends value to list\n",
    "            country_currency_list.append(temp_list) # appends temp list to the main list\n",
    "    \n",
    "    currency_list = [] # creates a new list\n",
    "\n",
    "    with open('currencyrates.csv', newline='', encoding=\"utf8\") as currencyrates_file: # opens the csv file\n",
    "        reader = csv.reader(currencyrates_file) # reads the cotents to a variable\n",
    "        next(reader, None) # returns none at the end of the file\n",
    "        for currency in reader: # iterates through the reader\n",
    "            temp_list = [] # temp list created\n",
    "            temp_list.append(currency[1]) # appends value to list\n",
    "            temp_list.append(currency[2]) # appends value to list\n",
    "            currency_list.append(temp_list) # appends temp list to the main list\n",
    "            \n",
    "    \n",
    "    final_list = []\n",
    "    for i in country_currency_list:\n",
    "        for x in currency_list:\n",
    "            if i[1] == x[0]:\n",
    "                templist = [i[0], x[1]]\n",
    "                final_list.append(templist)\n",
    "\n",
    "    x = 0\n",
    "    i = 0\n",
    "    while x < len(airport_list):\n",
    "        while i < len(final_list):\n",
    "            if airport_list[x][1] == final_list[i][0]:\n",
    "                airport_list[x].extend(final_list[i])\n",
    "                break\n",
    "            i+=1\n",
    "        x+=1\n",
    "    #Make a dictionary with the Airport code as the key and the value being the airport object of that key\n",
    "    finalAirports = {}\n",
    "    for i in airport_list:\n",
    "        finalAirports[i[0]] = Airport(i[0], i[2], i[3], i[5])\n",
    "   \n",
    "    return finalAirports  "
   ]
  },
  {
   "cell_type": "markdown",
   "metadata": {},
   "source": [
    "## Check Plane Capability"
   ]
  },
  {
   "cell_type": "markdown",
   "metadata": {},
   "source": [
    "Should go here!!"
   ]
  },
  {
   "cell_type": "markdown",
   "metadata": {},
   "source": [
    "## Distance"
   ]
  },
  {
   "cell_type": "markdown",
   "metadata": {},
   "source": [
    "### Calculating all Route Permutations\n",
    "\n",
    "Time complexity: O(n)"
   ]
  },
  {
   "cell_type": "code",
   "execution_count": 6,
   "metadata": {},
   "outputs": [],
   "source": [
    "def allPerms(listx):\n",
    "    \"\"\" Creates permutations of all possible routes using the input list of airports and plane \"\"\"\n",
    "    w = listx[1]\n",
    "    x = listx[2]\n",
    "    y = listx[3]\n",
    "    z = listx[4]\n",
    "    a = listx[0]\n",
    "    count = 0\n",
    "    permlist = []\n",
    "    newpermlist = []\n",
    "    perm = permutations([w,x,y,z]) \n",
    "    for i in list(perm): \n",
    "        permlist.append(i)\n",
    "\n",
    "    for perms in permlist:\n",
    "        perms = [a] + list(perms) + [a]\n",
    "        newpermlist.append(perms)\n",
    "\n",
    "    return newpermlist"
   ]
  },
  {
   "cell_type": "markdown",
   "metadata": {},
   "source": [
    "### Calculates distances between each airport pair\n",
    "\n",
    "Time complexity: n^4"
   ]
  },
  {
   "cell_type": "code",
   "execution_count": 7,
   "metadata": {},
   "outputs": [],
   "source": [
    "def distanceBetweenAirports(latitude1,longitude1,latitude2,longitude2):\n",
    "    radius_earth = 6371  # km\n",
    "    theta1 = longitude1 * (2 * pi) / 360\n",
    "    theta2 = longitude2 * (2 * pi) / 360\n",
    "    phi1 = (90 - latitude1) * (2 * pi) / 360\n",
    "    phi2 = (90 - latitude2) * (2 * pi) / 360\n",
    "    distance = acos( sin(phi1) * sin(phi2) * cos(abs(theta1 - theta2)) +  cos(phi1) * cos(phi2) ) * radius_earth\n",
    "    return floor(distance)"
   ]
  },
  {
   "cell_type": "code",
   "execution_count": 8,
   "metadata": {},
   "outputs": [],
   "source": [
    "def permutations_no(listx, airport_list):\n",
    "    \"\"\"Takes list of route and aircraft required. Also takes in dictionary of airport objects. Creates permutation\n",
    "    list of airports. Using the objects passed, it finds the distance between each airport and saves the leg \n",
    "    and distance as a key and value in a dictionary\"\"\"\n",
    "    w = listx[1]\n",
    "    x = listx[2]\n",
    "    y = listx[3]\n",
    "    z = listx[4]\n",
    "    a = listx[0]\n",
    "    count = 0\n",
    "    permlist = []\n",
    "    perm = permutations([w,x,y,z]) \n",
    "    for i in list(perm): \n",
    "        permlist.append(i)\n",
    "\n",
    "    airport_distances = {}\n",
    "    \n",
    "    for perms in permlist:\n",
    "        perms = [a] + list(perms) + [a]\n",
    "        for i in range(0, len(perms) - 1):\n",
    "            for j in airport_list:\n",
    "                if j == perms[i]:\n",
    "                    airport1 = airport_list[perms[i]]\n",
    "                    for k in airport_list:\n",
    "                        if k == perms[i+1]:\n",
    "                            airport2 = airport_list[perms[i+1]]\n",
    "                    distance = distanceBetweenAirports(float(airport1.get_longitude()), float(airport1.get_latitude()), float(airport2.get_longitude()), float(airport2.get_latitude()))\n",
    "                    if distance != 0:\n",
    "                        airport_distances['_'.join([(airport1.airport_code),(airport2.airport_code)])]  = distance\n",
    "\n",
    "                \n",
    "    return airport_distances"
   ]
  },
  {
   "cell_type": "markdown",
   "metadata": {},
   "source": [
    "## Costing"
   ]
  },
  {
   "cell_type": "markdown",
   "metadata": {},
   "source": [
    "### Calculating the Cost of each leg\n",
    "\n",
    "Time complexity: O(n^2)"
   ]
  },
  {
   "cell_type": "code",
   "execution_count": 9,
   "metadata": {},
   "outputs": [],
   "source": [
    "def findLegCosts(leg_distance_dict, airport_object_dict):\n",
    "    \"\"\"Takes in leg dictionary and airport objects. For each leg, it takes the departure airport \n",
    "    and gets the local currency conversion rate. It then multiplies it by the distance to get the cost of each leg.\n",
    "    Returns a dictionary with the cost of each leg.\"\"\"\n",
    "    costDict = {}\n",
    "    myKey = \"\"\n",
    "    for i in leg_distance_dict:\n",
    "        myKey = i[:3]\n",
    "        x = 0\n",
    "        cost = 0\n",
    "        for j in airport_object_dict:\n",
    "            if myKey == j:\n",
    "                cost = round(float(airport_object_dict[j]._exchange_rate) * float(leg_distance_dict[i]), 2)\n",
    "                costDict[i] = cost\n",
    "            x+=1\n",
    "    return costDict    "
   ]
  },
  {
   "cell_type": "markdown",
   "metadata": {},
   "source": [
    "### Calculating the Cost of each Rotue\n",
    "\n",
    "Time complexity: O(n^2)"
   ]
  },
  {
   "cell_type": "code",
   "execution_count": 10,
   "metadata": {},
   "outputs": [],
   "source": [
    "def findRouteCost(myList, costDict):\n",
    "    \"\"\"This returns the total cost of each route - using the cost of each leg. Returned in a dictionary\n",
    "    with: Key: route(tuple) & Values: Total cost\"\"\"\n",
    "    routeCostDict = {}\n",
    "    cost = 0\n",
    "    x = 0\n",
    "    \n",
    "    while x < len(myList):\n",
    "        i = 0\n",
    "        cost = 0\n",
    "        while i < (len(myList[x]) - 1):\n",
    "            myKey = str(myList[x][i]) + \"_\" + str(myList[x][i+1])\n",
    "            cost += costDict[myKey]\n",
    "            cost = round(cost,2)\n",
    "            i+=1\n",
    "        routeCostDict[tuple(myList[x])] = cost\n",
    "        x+=1\n",
    "    return routeCostDict"
   ]
  },
  {
   "cell_type": "markdown",
   "metadata": {},
   "source": [
    "## Check Aircraft Capability\n",
    "\n",
    "Time complexity: O(n^2 + n)"
   ]
  },
  {
   "cell_type": "code",
   "execution_count": 13,
   "metadata": {},
   "outputs": [],
   "source": [
    "def checkAircraftAllowed(dictAirplane, distanceDict, input_list, routeDict ):\n",
    "    \"\"\"Checks that the aircraft being used can do the route. Returns the routes that are\n",
    "    only possible with the aircraft\"\"\"\n",
    "    planeToFly = input_list[5]\n",
    "    planeRange = dictAirplane[planeToFly].get_max_capacity()\n",
    "    print(planeRange)\n",
    "    distanceDict_copy = distanceDict.copy()\n",
    "    for j in distanceDict_copy:\n",
    "        if distanceDict_copy[j] < int(planeRange):\n",
    "            distanceDict.pop(j)\n",
    "    finalRouteDict_copy = finalRouteDict.copy()\n",
    "    for i in finalRouteDict_copy:\n",
    "        toRemove = False\n",
    "        for j in distanceDict:\n",
    "            x = 0\n",
    "            while x < len(i) - 1:\n",
    "                if str(i[x] + \"_\" + i[x + 1]) == j:\n",
    "                    toRemove = True\n",
    "                x+=1\n",
    "        if toRemove == True:\n",
    "            finalRouteDict.pop(i)"
   ]
  },
  {
   "cell_type": "markdown",
   "metadata": {},
   "source": [
    "## Analysis"
   ]
  },
  {
   "cell_type": "code",
   "execution_count": 22,
   "metadata": {},
   "outputs": [
    {
     "name": "stdout",
     "output_type": "stream",
     "text": [
      "Please enter the name of the file containing the routes: \n",
      "> test.csv\n",
      "Opening test.csv....\n",
      "15607.3\n",
      "This route is not possible with the 777\n"
     ]
    }
   ],
   "source": [
    "print(\"Please enter the name of the file containing the routes: \")\n",
    "file_name = input(\"> \")\n",
    "\n",
    "while os.path.isfile(file_name) != True:\n",
    "    print(\"I am sorry. I do not believe that file exists. Remember, it is case sensitive. Please try again.\") # Fix the indentation here\n",
    "    print(\"=\" * 75)\n",
    "    print(\"\")       \n",
    "    file_name = input(\"> \")\n",
    "    \n",
    "print(f\"Opening {file_name}....\")\n",
    "datamatrix = read_file(file_name)\n",
    "\n",
    "for i in datamatrix:\n",
    "    inputList = i # sample list passed\n",
    "    inputList[5] = inputList[5].rstrip()\n",
    "    airport_objects_dict = optimumRoute(inputList) # creates the objects for each airport\n",
    "    dictOfAircrafts = buildAircraft() # Creates aircraft objects\n",
    "    \n",
    "    # create all the possible routes\n",
    "    all_routes_list = allPerms(inputList) \n",
    "    \n",
    "    # Finds distances and costs of each leg\n",
    "    dict_routes_distances = permutations_no(inputList, airport_objects_dict)\n",
    "    leg_costs = findLegCosts(dict_routes_distances, airport_objects_dict)\n",
    "    \n",
    "    # Finds total route cost\n",
    "    finalRouteDict = findRouteCost(all_routes_list, leg_costs)\n",
    "    \n",
    "    # Removes distances that the aircraft cannot do\n",
    "    checkAircraftAllowed(dictOfAircrafts, dict_routes_distances, inputList, finalRouteDict)\n",
    "    if (len(finalRouteDict)) == 0:\n",
    "        print(\"This route is not possible with the \" + inputList[5])\n",
    "        break\n",
    "    cheapestRoute = min(finalRouteDict, key=finalRouteDict.get)\n",
    "    cost = finalRouteDict[cheapestRoute]\n",
    "    print(\"The cheapest route is \" + str(cheapestRoute) + \" and its cost is: \" + str(cost))"
   ]
  },
  {
   "cell_type": "markdown",
   "metadata": {},
   "source": [
    "### Unit tests\n",
    "\n",
    "- Passing a plane that doesnt exist\n",
    "- Passing a plane that can't fly \n",
    "- Check to make sure that no two consecutive airports are the same\n",
    "- airport that doesn't exist\n",
    "- check that units match with assumptions\n",
    "- Check that all exchange rates are there\n",
    "\n",
    "## TODO\n",
    "\n",
    "- rewrite permutations algorithm \n",
    "- justify use of python's built in stuff\n",
    "- Do unit tests\n",
    "- check to see if o(n^4) can be rewritten!!!!!!\n",
    "\n",
    "## Number of data structures/algorithms: 6\n",
    " - List\n",
    " - Tuple\n",
    " - dictionary \n",
    " - Pricing algorithm\n",
    " - Plane allowed to fly route algorithm\n",
    " - Leg and distance calculation algorithm"
   ]
  },
  {
   "cell_type": "code",
   "execution_count": null,
   "metadata": {},
   "outputs": [],
   "source": []
  }
 ],
 "metadata": {
  "kernelspec": {
   "display_name": "Python 3",
   "language": "python",
   "name": "python3"
  },
  "language_info": {
   "codemirror_mode": {
    "name": "ipython",
    "version": 3
   },
   "file_extension": ".py",
   "mimetype": "text/x-python",
   "name": "python",
   "nbconvert_exporter": "python",
   "pygments_lexer": "ipython3",
   "version": "3.7.1"
  }
 },
 "nbformat": 4,
 "nbformat_minor": 2
}

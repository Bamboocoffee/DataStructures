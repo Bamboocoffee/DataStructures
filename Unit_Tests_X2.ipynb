{
 "cells": [
  {
   "cell_type": "code",
   "execution_count": null,
   "metadata": {},
   "outputs": [],
   "source": [
    "import unittest\n",
    "\n",
    "class TestExchangeRates(unittest.TestCase):\n",
    "    def test_exchange_rates(self):\n",
    "        inputList = ['DUB', 'LHR', 'SYD', 'JFK', 'AAL', '777']\n",
    "        airport_dict = optimumRoute(inputList) \n",
    "        sum1 = 0\n",
    "        i = 0\n",
    "                       \n",
    "        while i < len(currency_list):\n",
    "            if currency_list[i][1] != 0:\n",
    "                sum1+=1\n",
    "                i+=1\n",
    "            \n",
    "        if sum1==len(currency_list):\n",
    "            self.assertTrue(optimumRoute(inputList))\n",
    "        else:\n",
    "            self.assertFalse(optimumRoute(inputList))\n",
    "            \n",
    "unittest.main(argv=[''], verbosity=2, exit=False)"
   ]
  },
  {
   "cell_type": "code",
   "execution_count": null,
   "metadata": {},
   "outputs": [],
   "source": [
    "import unittest\n",
    "\n",
    "class TestAircraft(unittest.TestCase):\n",
    "\n",
    "    def test__checkAircraftAllowed(self):\n",
    "        inputList = ['DUB', 'LHR', 'SYD', 'JFK', 'AAL', '777']\n",
    "        aircraft_dict = buildAircraft() \n",
    "        airport_dict = optimumRoute(inputList) \n",
    "        all_routes_list = allPerms(inputList) \n",
    "        routes_distances_dict = permutations_no(inputList, airport_dict)\n",
    "        leg_costs = findLegCosts(routes_distances_dict, airport_dict)\n",
    "        final_route_dict = findRouteCost(all_routes_list, leg_costs)\n",
    "        checkAircraftAllowed(aircraft_dict, routes_distances_dict, inputList, final_route_dict)\n",
    "        if (len(finalRouteDict)) >=1:\n",
    "            self.assertTrue(checkAircraftAllowed(aircraft_dict, routes_distances_dict, inputList, final_route_dict)) \n",
    "        else:\n",
    "            self.assertFalse(checkAircraftAllowed(aircraft_dict, routes_distances_dict, inputList, final_route_dict))\n",
    "\n",
    "unittest.main(argv=[''], verbosity=2, exit=False)\n",
    "    \n",
    "\n"
   ]
  },
  {
   "cell_type": "code",
   "execution_count": null,
   "metadata": {},
   "outputs": [],
   "source": [
    "import unittest\n",
    "\n",
    "class TestMethods(unittest.TestCase):\n",
    "\n",
    "    def test_nonexistent_airport(self):\n",
    "        inputList = ['DUB', 'LHR', 'AS3DAZZ', 'JFK', 'AAL', '777']\n",
    "        aircraft_dict = buildAircraft() \n",
    "        airport_dict = optimumRoute(inputList)\n",
    "        self.assertEqual(airport_dict, False)\n",
    "\n",
    "if __name__ == '__main__':\n",
    "     unittest.main(argv=['first-arg-is-ignored'], exit=False)"
   ]
  }
 ],
 "metadata": {
  "kernelspec": {
   "display_name": "Python 3",
   "language": "python",
   "name": "python3"
  },
  "language_info": {
   "codemirror_mode": {
    "name": "ipython",
    "version": 3
   },
   "file_extension": ".py",
   "mimetype": "text/x-python",
   "name": "python",
   "nbconvert_exporter": "python",
   "pygments_lexer": "ipython3",
   "version": "3.7.1"
  }
 },
 "nbformat": 4,
 "nbformat_minor": 2
}

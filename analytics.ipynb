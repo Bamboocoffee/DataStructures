{
 "cells": [
  {
   "cell_type": "code",
   "execution_count": 1,
   "metadata": {},
   "outputs": [],
   "source": [
    "import pandas as pd\n",
    "import csv"
   ]
  },
  {
   "cell_type": "code",
   "execution_count": 2,
   "metadata": {},
   "outputs": [],
   "source": [
    "class Aircraft: # Class that contains all aircraft\n",
    "    \n",
    "    def __init__(self, model, manufacturer, max_capacity, current_capacity = 0):\n",
    "        self._model = model # model of the aircraft\n",
    "        self.manufacturer = manufacturer # manufacturer of the aircraft\n",
    "        self._max_capacity = max_capacity # max capacity of the aircraft\n",
    "        self._current_capacity = current_capacity # current capacity of the aircraft\n",
    "        \n",
    "    @property\n",
    "    def maxDistance(self):\n",
    "        return self._max_distance # returns the max distance\n",
    "    \n",
    "    @property\n",
    "    def maunfacturer(self):\n",
    "        return self._manufacturer # returns the manufacturer\n",
    "    \n",
    "    @property\n",
    "    def model(self):\n",
    "        return self._model # returns the model\n",
    "\n",
    "    @property\n",
    "    def current_capacity(self):\n",
    "        return self._current_capacity # returns the current capacity left in the plane\n",
    "    \n",
    "    @current_capacity.setter\n",
    "    def current_capacity(self, amount):\n",
    "        if self._max_capacity == self._current_capacity: # This is just a checker.\n",
    "            return \"Sorry, the plane has a full tank\"\n",
    "        elif self._current_capacity + amount > self._max_capacity:\n",
    "            return \"Sorry, you have filled up by too much\"\n",
    "        else:\n",
    "            self._current_capacity = amount # sets the capacity of the plane\n",
    "\n",
    "class Airport:\n",
    "    \n",
    "    def __init__(self, airport_code, country_name, longitude, latitude, currency = None):\n",
    "        self.airport_code = airport_code # airport code of the airport\n",
    "        self.country_name = country_name # country the airport is located\n",
    "        self._longitude = longitude # longitude of the airport\n",
    "        self._latitude = latitude # latitude of the airport\n",
    "        self._currency = currency # currency used by the airport\n",
    "        \n",
    "    @property\n",
    "    def longitude(self):\n",
    "        return self._longitude # returns the longitude of the airport\n",
    "    \n",
    "    @property\n",
    "    def latitude(self):\n",
    "        return self._latitude # returns the latitude of the airport\n",
    "    \n",
    "    @property\n",
    "    def currency(self):\n",
    "        return self._currency # returns the currency used by the airport\n",
    "    \n",
    "    @currency.setter\n",
    "    def currency(self, currency):\n",
    "        self._currency = currency # sets the currency of the airport\n",
    "        "
   ]
  },
  {
   "cell_type": "code",
   "execution_count": 3,
   "metadata": {},
   "outputs": [],
   "source": [
    "airplane_list = [] # creates a new list\n",
    "\n",
    "with open('aircraft.csv', newline='') as aircraft_file: # opens the csv file\n",
    "    reader = csv.reader(aircraft_file) # reads the cotents to a variable \n",
    "    next(reader, None) # returns none at the end of the file\n",
    "    for aircraft in reader: # iterates through the reader\n",
    "        model = aircraft[0] # assigns variable\n",
    "        manufacturer = aircraft[3] # assigns variable\n",
    "        distance = aircraft[4] # assigns variable\n",
    "        distance = int(distance) # converts to an int\n",
    "        airplane_list.append(Aircraft(model, manufacturer, distance)) "
   ]
  },
  {
   "cell_type": "code",
   "execution_count": 4,
   "metadata": {},
   "outputs": [],
   "source": [
    "airport_list = [] # creates a new list\n",
    "\n",
    "with open('airport.csv', newline='') as airport_file: # opens the csv file\n",
    "    reader = csv.reader(airport_file) # reads the cotents to a variable\n",
    "    next(reader, None) # returns none at the end of the file\n",
    "    for airport in reader: # iterates through the reader\n",
    "        airport_code = airport[4] # assigns variable\n",
    "        country_name = airport[3] # assigns variable\n",
    "        longitude = airport[6] # assigns variable\n",
    "        latitude = airport[7] # assigns variable\n",
    "        airport_list.append(Airport(airport_code, country_name, longitude, latitude, currency = None))"
   ]
  },
  {
   "cell_type": "code",
   "execution_count": 5,
   "metadata": {},
   "outputs": [],
   "source": [
    "country_currency_list = [] # creates a new list\n",
    "\n",
    "with open('countrycurrency.csv', newline='') as countrycurrency_file: # opens the csv file\n",
    "    reader = csv.reader(countrycurrency_file) # reads the cotents to a variable\n",
    "    next(reader, None) # returns none at the end of the file\n",
    "    for country in reader: # iterates through the reader\n",
    "        temp_list = [] # temp list created\n",
    "        temp_list.append(country[0]) # appends value to list\n",
    "        temp_list.append(country[14]) # appends value to list\n",
    "        country_currency_list.append(temp_list) # appends temp list to the main list     "
   ]
  },
  {
   "cell_type": "code",
   "execution_count": 6,
   "metadata": {},
   "outputs": [],
   "source": [
    "currency_list = [] # creates a new list\n",
    "\n",
    "with open('currencyrates.csv', newline='') as currencyrates_file: # opens the csv file\n",
    "    reader = csv.reader(currencyrates_file) # reads the cotents to a variable\n",
    "    next(reader, None) # returns none at the end of the file\n",
    "    for currency in reader: # iterates through the reader\n",
    "        temp_list = [] # temp list created\n",
    "        temp_list.append(currency[1]) # appends value to list\n",
    "        temp_list.append(currency[2]) # appends value to list\n",
    "        currency_list.append(temp_list) # appends temp list to the main list  "
   ]
  },
  {
   "cell_type": "code",
   "execution_count": 7,
   "metadata": {},
   "outputs": [],
   "source": [
    "country_rates_dict = {} # creates a dict\n",
    "\n",
    "for i in country_currency_list: # iterates through the list\n",
    "    for j in currency_list: # iterates through another list\n",
    "        if i[1] == j[0]: \n",
    "            country_rates_dict[i[0]] = j[1] # adds to the dictionary if condition met         "
   ]
  },
  {
   "cell_type": "code",
   "execution_count": 8,
   "metadata": {},
   "outputs": [],
   "source": [
    "for i in airport_list: # iterates over a list\n",
    "    for key, value in country_rates_dict.items(): # iterates through the dict\n",
    "        if (i.country_name) == key: \n",
    "            i.currency = value # sets the currency of each object"
   ]
  }
 ],
 "metadata": {
  "kernelspec": {
   "display_name": "Python 3",
   "language": "python",
   "name": "python3"
  },
  "language_info": {
   "codemirror_mode": {
    "name": "ipython",
    "version": 3
   },
   "file_extension": ".py",
   "mimetype": "text/x-python",
   "name": "python",
   "nbconvert_exporter": "python",
   "pygments_lexer": "ipython3",
   "version": "3.7.1"
  }
 },
 "nbformat": 4,
 "nbformat_minor": 2
}

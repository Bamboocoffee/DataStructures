{
 "cells": [
  {
   "cell_type": "code",
   "execution_count": null,
   "metadata": {},
   "outputs": [],
   "source": [
    "class Aircarft():\n",
    "    \n",
    "    def __init__(self, model, manufacturer, max_distance, capacity = 0):\n",
    "        self.model = model\n",
    "        self.manufacturer = manufacturer\n",
    "        self._max_distance = max_distance\n",
    "        self._capacity = capacity\n",
    "        \n",
    "    @property\n",
    "    def maxDistance(self):\n",
    "        return self._max_distance\n",
    "    \n",
    "    @property\n",
    "    def maunfacturer(self):\n",
    "        return self._manufacturer\n",
    "    \n",
    "    @property\n",
    "    def model(self):\n",
    "        return self._model\n",
    "    \n",
    "    @property\n",
    "    def capacity(self):\n",
    "        return self._capacity\n",
    "    \n",
    "    @capacity.setter\n",
    "    def capacity(self, amount):\n",
    "        self._capacity = amount\n",
    "\n",
    "class Airport():\n",
    "    \n",
    "    def __init__(self, code, country_name, country_code, longitute, latitude, currency,):\n",
    "        self.code = code\n",
    "        self.country_name = country_name\n",
    "        self.country_code = country_code\n",
    "        self._longitude = longitude\n",
    "        self._latitude = latitude\n",
    "        self.currency = currency\n",
    "        \n",
    "    @property\n",
    "    def longitutde(self):\n",
    "        return self._longitude\n",
    "    \n",
    "    @property\n",
    "    def latitude(self):\n",
    "        return self._latitude\n",
    "    "
   ]
  }
 ],
 "metadata": {
  "kernelspec": {
   "display_name": "Python 3",
   "language": "python",
   "name": "python3"
  },
  "language_info": {
   "codemirror_mode": {
    "name": "ipython",
    "version": 3
   },
   "file_extension": ".py",
   "mimetype": "text/x-python",
   "name": "python",
   "nbconvert_exporter": "python",
   "pygments_lexer": "ipython3",
   "version": "3.7.1"
  }
 },
 "nbformat": 4,
 "nbformat_minor": 2
}
